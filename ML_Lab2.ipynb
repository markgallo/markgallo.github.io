{
 "cells": [
  {
   "cell_type": "markdown",
   "metadata": {},
   "source": [
    "### 1. Find the url for the California Test Score Data Set from the following website:\n",
    "\n",
    "https://vincentarelbundock.github.io/Rdatasets/datasets.html\n",
    "\n",
    "Read through the \"DOC\" file to understand the variables in the dataset, then use the following url to import the data.  \n",
    "\n",
    "https://vincentarelbundock.github.io/Rdatasets/csv/Ecdat/Caschool.csv\n",
    "\n",
    "The target data (i.e. the dependent variable) is named \"testscr\".  You can use all  variables in the data except for \"readscr\" and \"mathscr\" in the following analysis.  (These two variables were used to generate the dependent variable)."
   ]
  },
  {
   "cell_type": "code",
   "execution_count": 79,
   "metadata": {},
   "outputs": [],
   "source": [
    "import pandas as pd\n",
    "import numpy as np\n",
    "import seaborn as sns\n",
    "import matplotlib.pyplot as plt\n",
    "\n",
    "import sys\n",
    "import warnings\n",
    "\n",
    "if not sys.warnoptions:\n",
    "    warnings.simplefilter(\"ignore\")"
   ]
  },
  {
   "cell_type": "code",
   "execution_count": 2,
   "metadata": {},
   "outputs": [],
   "source": [
    "data = pd.read_csv(\"https://vincentarelbundock.github.io/Rdatasets/csv/Ecdat/Caschool.csv\")"
   ]
  },
  {
   "cell_type": "markdown",
   "metadata": {},
   "source": [
    "### 1.1 Visualize the univariate distribution of the target feature and each of the three continuous explanatory variables that you think are likely to have a relationship with the target feature.   \n",
    "\n"
   ]
  },
  {
   "cell_type": "code",
   "execution_count": 3,
   "metadata": {},
   "outputs": [
    {
     "data": {
      "text/html": [
       "<div>\n",
       "<style scoped>\n",
       "    .dataframe tbody tr th:only-of-type {\n",
       "        vertical-align: middle;\n",
       "    }\n",
       "\n",
       "    .dataframe tbody tr th {\n",
       "        vertical-align: top;\n",
       "    }\n",
       "\n",
       "    .dataframe thead th {\n",
       "        text-align: right;\n",
       "    }\n",
       "</style>\n",
       "<table border=\"1\" class=\"dataframe\">\n",
       "  <thead>\n",
       "    <tr style=\"text-align: right;\">\n",
       "      <th></th>\n",
       "      <th>Unnamed: 0</th>\n",
       "      <th>distcod</th>\n",
       "      <th>county</th>\n",
       "      <th>district</th>\n",
       "      <th>grspan</th>\n",
       "      <th>enrltot</th>\n",
       "      <th>teachers</th>\n",
       "      <th>calwpct</th>\n",
       "      <th>mealpct</th>\n",
       "      <th>computer</th>\n",
       "      <th>testscr</th>\n",
       "      <th>compstu</th>\n",
       "      <th>expnstu</th>\n",
       "      <th>str</th>\n",
       "      <th>avginc</th>\n",
       "      <th>elpct</th>\n",
       "      <th>readscr</th>\n",
       "      <th>mathscr</th>\n",
       "    </tr>\n",
       "  </thead>\n",
       "  <tbody>\n",
       "    <tr>\n",
       "      <th>0</th>\n",
       "      <td>1</td>\n",
       "      <td>75119</td>\n",
       "      <td>Alameda</td>\n",
       "      <td>Sunol Glen Unified</td>\n",
       "      <td>KK-08</td>\n",
       "      <td>195</td>\n",
       "      <td>10.900000</td>\n",
       "      <td>0.510200</td>\n",
       "      <td>2.040800</td>\n",
       "      <td>67</td>\n",
       "      <td>690.799988</td>\n",
       "      <td>0.343590</td>\n",
       "      <td>6384.911133</td>\n",
       "      <td>17.889910</td>\n",
       "      <td>22.690001</td>\n",
       "      <td>0.000000</td>\n",
       "      <td>691.599976</td>\n",
       "      <td>690.000000</td>\n",
       "    </tr>\n",
       "    <tr>\n",
       "      <th>1</th>\n",
       "      <td>2</td>\n",
       "      <td>61499</td>\n",
       "      <td>Butte</td>\n",
       "      <td>Manzanita Elementary</td>\n",
       "      <td>KK-08</td>\n",
       "      <td>240</td>\n",
       "      <td>11.150000</td>\n",
       "      <td>15.416700</td>\n",
       "      <td>47.916698</td>\n",
       "      <td>101</td>\n",
       "      <td>661.200012</td>\n",
       "      <td>0.420833</td>\n",
       "      <td>5099.380859</td>\n",
       "      <td>21.524664</td>\n",
       "      <td>9.824000</td>\n",
       "      <td>4.583333</td>\n",
       "      <td>660.500000</td>\n",
       "      <td>661.900024</td>\n",
       "    </tr>\n",
       "    <tr>\n",
       "      <th>2</th>\n",
       "      <td>3</td>\n",
       "      <td>61549</td>\n",
       "      <td>Butte</td>\n",
       "      <td>Thermalito Union Elementary</td>\n",
       "      <td>KK-08</td>\n",
       "      <td>1550</td>\n",
       "      <td>82.900002</td>\n",
       "      <td>55.032299</td>\n",
       "      <td>76.322601</td>\n",
       "      <td>169</td>\n",
       "      <td>643.599976</td>\n",
       "      <td>0.109032</td>\n",
       "      <td>5501.954590</td>\n",
       "      <td>18.697226</td>\n",
       "      <td>8.978000</td>\n",
       "      <td>30.000002</td>\n",
       "      <td>636.299988</td>\n",
       "      <td>650.900024</td>\n",
       "    </tr>\n",
       "    <tr>\n",
       "      <th>3</th>\n",
       "      <td>4</td>\n",
       "      <td>61457</td>\n",
       "      <td>Butte</td>\n",
       "      <td>Golden Feather Union Elementary</td>\n",
       "      <td>KK-08</td>\n",
       "      <td>243</td>\n",
       "      <td>14.000000</td>\n",
       "      <td>36.475399</td>\n",
       "      <td>77.049202</td>\n",
       "      <td>85</td>\n",
       "      <td>647.700012</td>\n",
       "      <td>0.349794</td>\n",
       "      <td>7101.831055</td>\n",
       "      <td>17.357143</td>\n",
       "      <td>8.978000</td>\n",
       "      <td>0.000000</td>\n",
       "      <td>651.900024</td>\n",
       "      <td>643.500000</td>\n",
       "    </tr>\n",
       "    <tr>\n",
       "      <th>4</th>\n",
       "      <td>5</td>\n",
       "      <td>61523</td>\n",
       "      <td>Butte</td>\n",
       "      <td>Palermo Union Elementary</td>\n",
       "      <td>KK-08</td>\n",
       "      <td>1335</td>\n",
       "      <td>71.500000</td>\n",
       "      <td>33.108601</td>\n",
       "      <td>78.427002</td>\n",
       "      <td>171</td>\n",
       "      <td>640.849976</td>\n",
       "      <td>0.128090</td>\n",
       "      <td>5235.987793</td>\n",
       "      <td>18.671329</td>\n",
       "      <td>9.080333</td>\n",
       "      <td>13.857677</td>\n",
       "      <td>641.799988</td>\n",
       "      <td>639.900024</td>\n",
       "    </tr>\n",
       "  </tbody>\n",
       "</table>\n",
       "</div>"
      ],
      "text/plain": [
       "   Unnamed: 0  distcod   county                         district grspan  \\\n",
       "0           1    75119  Alameda               Sunol Glen Unified  KK-08   \n",
       "1           2    61499    Butte             Manzanita Elementary  KK-08   \n",
       "2           3    61549    Butte      Thermalito Union Elementary  KK-08   \n",
       "3           4    61457    Butte  Golden Feather Union Elementary  KK-08   \n",
       "4           5    61523    Butte         Palermo Union Elementary  KK-08   \n",
       "\n",
       "   enrltot   teachers    calwpct    mealpct  computer     testscr   compstu  \\\n",
       "0      195  10.900000   0.510200   2.040800        67  690.799988  0.343590   \n",
       "1      240  11.150000  15.416700  47.916698       101  661.200012  0.420833   \n",
       "2     1550  82.900002  55.032299  76.322601       169  643.599976  0.109032   \n",
       "3      243  14.000000  36.475399  77.049202        85  647.700012  0.349794   \n",
       "4     1335  71.500000  33.108601  78.427002       171  640.849976  0.128090   \n",
       "\n",
       "       expnstu        str     avginc      elpct     readscr     mathscr  \n",
       "0  6384.911133  17.889910  22.690001   0.000000  691.599976  690.000000  \n",
       "1  5099.380859  21.524664   9.824000   4.583333  660.500000  661.900024  \n",
       "2  5501.954590  18.697226   8.978000  30.000002  636.299988  650.900024  \n",
       "3  7101.831055  17.357143   8.978000   0.000000  651.900024  643.500000  \n",
       "4  5235.987793  18.671329   9.080333  13.857677  641.799988  639.900024  "
      ]
     },
     "execution_count": 3,
     "metadata": {},
     "output_type": "execute_result"
    }
   ],
   "source": [
    "data.head()"
   ]
  },
  {
   "cell_type": "code",
   "execution_count": 4,
   "metadata": {},
   "outputs": [
    {
     "data": {
      "text/html": [
       "<div>\n",
       "<style scoped>\n",
       "    .dataframe tbody tr th:only-of-type {\n",
       "        vertical-align: middle;\n",
       "    }\n",
       "\n",
       "    .dataframe tbody tr th {\n",
       "        vertical-align: top;\n",
       "    }\n",
       "\n",
       "    .dataframe thead th {\n",
       "        text-align: right;\n",
       "    }\n",
       "</style>\n",
       "<table border=\"1\" class=\"dataframe\">\n",
       "  <thead>\n",
       "    <tr style=\"text-align: right;\">\n",
       "      <th></th>\n",
       "      <th>Unnamed: 0</th>\n",
       "      <th>county</th>\n",
       "      <th>district</th>\n",
       "      <th>grspan</th>\n",
       "      <th>enrltot</th>\n",
       "      <th>teachers</th>\n",
       "      <th>calwpct</th>\n",
       "      <th>mealpct</th>\n",
       "      <th>computer</th>\n",
       "      <th>testscr</th>\n",
       "      <th>compstu</th>\n",
       "      <th>expnstu</th>\n",
       "      <th>str</th>\n",
       "      <th>avginc</th>\n",
       "      <th>elpct</th>\n",
       "    </tr>\n",
       "  </thead>\n",
       "  <tbody>\n",
       "    <tr>\n",
       "      <th>0</th>\n",
       "      <td>1</td>\n",
       "      <td>Alameda</td>\n",
       "      <td>Sunol Glen Unified</td>\n",
       "      <td>KK-08</td>\n",
       "      <td>195</td>\n",
       "      <td>10.900000</td>\n",
       "      <td>0.510200</td>\n",
       "      <td>2.040800</td>\n",
       "      <td>67</td>\n",
       "      <td>690.799988</td>\n",
       "      <td>0.343590</td>\n",
       "      <td>6384.911133</td>\n",
       "      <td>17.889910</td>\n",
       "      <td>22.690001</td>\n",
       "      <td>0.000000</td>\n",
       "    </tr>\n",
       "    <tr>\n",
       "      <th>1</th>\n",
       "      <td>2</td>\n",
       "      <td>Butte</td>\n",
       "      <td>Manzanita Elementary</td>\n",
       "      <td>KK-08</td>\n",
       "      <td>240</td>\n",
       "      <td>11.150000</td>\n",
       "      <td>15.416700</td>\n",
       "      <td>47.916698</td>\n",
       "      <td>101</td>\n",
       "      <td>661.200012</td>\n",
       "      <td>0.420833</td>\n",
       "      <td>5099.380859</td>\n",
       "      <td>21.524664</td>\n",
       "      <td>9.824000</td>\n",
       "      <td>4.583333</td>\n",
       "    </tr>\n",
       "    <tr>\n",
       "      <th>2</th>\n",
       "      <td>3</td>\n",
       "      <td>Butte</td>\n",
       "      <td>Thermalito Union Elementary</td>\n",
       "      <td>KK-08</td>\n",
       "      <td>1550</td>\n",
       "      <td>82.900002</td>\n",
       "      <td>55.032299</td>\n",
       "      <td>76.322601</td>\n",
       "      <td>169</td>\n",
       "      <td>643.599976</td>\n",
       "      <td>0.109032</td>\n",
       "      <td>5501.954590</td>\n",
       "      <td>18.697226</td>\n",
       "      <td>8.978000</td>\n",
       "      <td>30.000002</td>\n",
       "    </tr>\n",
       "    <tr>\n",
       "      <th>3</th>\n",
       "      <td>4</td>\n",
       "      <td>Butte</td>\n",
       "      <td>Golden Feather Union Elementary</td>\n",
       "      <td>KK-08</td>\n",
       "      <td>243</td>\n",
       "      <td>14.000000</td>\n",
       "      <td>36.475399</td>\n",
       "      <td>77.049202</td>\n",
       "      <td>85</td>\n",
       "      <td>647.700012</td>\n",
       "      <td>0.349794</td>\n",
       "      <td>7101.831055</td>\n",
       "      <td>17.357143</td>\n",
       "      <td>8.978000</td>\n",
       "      <td>0.000000</td>\n",
       "    </tr>\n",
       "    <tr>\n",
       "      <th>4</th>\n",
       "      <td>5</td>\n",
       "      <td>Butte</td>\n",
       "      <td>Palermo Union Elementary</td>\n",
       "      <td>KK-08</td>\n",
       "      <td>1335</td>\n",
       "      <td>71.500000</td>\n",
       "      <td>33.108601</td>\n",
       "      <td>78.427002</td>\n",
       "      <td>171</td>\n",
       "      <td>640.849976</td>\n",
       "      <td>0.128090</td>\n",
       "      <td>5235.987793</td>\n",
       "      <td>18.671329</td>\n",
       "      <td>9.080333</td>\n",
       "      <td>13.857677</td>\n",
       "    </tr>\n",
       "  </tbody>\n",
       "</table>\n",
       "</div>"
      ],
      "text/plain": [
       "   Unnamed: 0   county                         district grspan  enrltot  \\\n",
       "0           1  Alameda               Sunol Glen Unified  KK-08      195   \n",
       "1           2    Butte             Manzanita Elementary  KK-08      240   \n",
       "2           3    Butte      Thermalito Union Elementary  KK-08     1550   \n",
       "3           4    Butte  Golden Feather Union Elementary  KK-08      243   \n",
       "4           5    Butte         Palermo Union Elementary  KK-08     1335   \n",
       "\n",
       "    teachers    calwpct    mealpct  computer     testscr   compstu  \\\n",
       "0  10.900000   0.510200   2.040800        67  690.799988  0.343590   \n",
       "1  11.150000  15.416700  47.916698       101  661.200012  0.420833   \n",
       "2  82.900002  55.032299  76.322601       169  643.599976  0.109032   \n",
       "3  14.000000  36.475399  77.049202        85  647.700012  0.349794   \n",
       "4  71.500000  33.108601  78.427002       171  640.849976  0.128090   \n",
       "\n",
       "       expnstu        str     avginc      elpct  \n",
       "0  6384.911133  17.889910  22.690001   0.000000  \n",
       "1  5099.380859  21.524664   9.824000   4.583333  \n",
       "2  5501.954590  18.697226   8.978000  30.000002  \n",
       "3  7101.831055  17.357143   8.978000   0.000000  \n",
       "4  5235.987793  18.671329   9.080333  13.857677  "
      ]
     },
     "execution_count": 4,
     "metadata": {},
     "output_type": "execute_result"
    }
   ],
   "source": [
    "ca_schools = data.drop(['readscr','mathscr','distcod'], axis=1)\n",
    "ca_schools.head()"
   ]
  },
  {
   "cell_type": "code",
   "execution_count": 5,
   "metadata": {},
   "outputs": [
    {
     "data": {
      "text/plain": [
       "<matplotlib.axes._subplots.AxesSubplot at 0x1d93e7374e0>"
      ]
     },
     "execution_count": 5,
     "metadata": {},
     "output_type": "execute_result"
    },
    {
     "data": {
      "image/png": "[encoded data removed]",
      "text/plain": [
       "<Figure size 432x288 with 1 Axes>"
      ]
     },
     "metadata": {
      "needs_background": "light"
     },
     "output_type": "display_data"
    }
   ],
   "source": [
    "#Univariate Distribution: Test Scores \n",
    "df_test = pd.DataFrame(ca_schools, columns=[\"testscr\"])\n",
    "df_test\n",
    "sns.distplot(df_test)"
   ]
  },
  {
   "cell_type": "code",
   "execution_count": 6,
   "metadata": {},
   "outputs": [
    {
     "data": {
      "text/plain": [
       "<matplotlib.axes._subplots.AxesSubplot at 0x1d93ea7af28>"
      ]
     },
     "execution_count": 6,
     "metadata": {},
     "output_type": "execute_result"
    },
    {
     "data": {
      "image/png": "[encoded data removed]",
      "text/plain": [
       "<Figure size 432x288 with 1 Axes>"
      ]
     },
     "metadata": {
      "needs_background": "light"
     },
     "output_type": "display_data"
    }
   ],
   "source": [
    "#Univariate Distribution: Computers Per Student \n",
    "df_comp = pd.DataFrame(ca_schools, columns=[\"compstu\"])\n",
    "df_comp\n",
    "sns.distplot(df_comp)"
   ]
  },
  {
   "cell_type": "code",
   "execution_count": 7,
   "metadata": {},
   "outputs": [
    {
     "data": {
      "text/plain": [
       "<matplotlib.axes._subplots.AxesSubplot at 0x1d93eb34390>"
      ]
     },
     "execution_count": 7,
     "metadata": {},
     "output_type": "execute_result"
    },
    {
     "data": {
      "image/png": "[encoded data removed]",
      "text/plain": [
       "<Figure size 432x288 with 1 Axes>"
      ]
     },
     "metadata": {
      "needs_background": "light"
     },
     "output_type": "display_data"
    }
   ],
   "source": [
    "#Univariate Distribution: Student/Teacher Ratio \n",
    "df_str = pd.DataFrame(ca_schools, columns=[\"str\"])\n",
    "df_str\n",
    "sns.distplot(df_str)"
   ]
  },
  {
   "cell_type": "code",
   "execution_count": 8,
   "metadata": {},
   "outputs": [
    {
     "data": {
      "text/plain": [
       "<matplotlib.axes._subplots.AxesSubplot at 0x1d93eb3cc50>"
      ]
     },
     "execution_count": 8,
     "metadata": {},
     "output_type": "execute_result"
    },
    {
     "data": {
      "image/png": "[encoded data removed]",
      "text/plain": [
       "<Figure size 432x288 with 1 Axes>"
      ]
     },
     "metadata": {
      "needs_background": "light"
     },
     "output_type": "display_data"
    }
   ],
   "source": [
    "#Univariate Distribution: Average Income\n",
    "df_inc = pd.DataFrame(ca_schools, columns=[\"avginc\"])\n",
    "df_inc\n",
    "sns.distplot(df_inc)"
   ]
  },
  {
   "cell_type": "markdown",
   "metadata": {},
   "source": [
    "### 1.2 Visualize the dependency of the target on each feature from 1.1."
   ]
  },
  {
   "cell_type": "code",
   "execution_count": 9,
   "metadata": {},
   "outputs": [
    {
     "data": {
      "text/plain": [
       "<seaborn.axisgrid.JointGrid at 0x1d93ec5b9e8>"
      ]
     },
     "execution_count": 9,
     "metadata": {},
     "output_type": "execute_result"
    },
    {
     "data": {
      "image/png": "[encoded data removed]",
      "text/plain": [
       "<Figure size 432x432 with 3 Axes>"
      ]
     },
     "metadata": {
      "needs_background": "light"
     },
     "output_type": "display_data"
    }
   ],
   "source": [
    "sns.jointplot(x=\"compstu\", y=\"testscr\", data=ca_schools)"
   ]
  },
  {
   "cell_type": "code",
   "execution_count": 10,
   "metadata": {},
   "outputs": [
    {
     "data": {
      "text/plain": [
       "<seaborn.axisgrid.JointGrid at 0x1d93edc99e8>"
      ]
     },
     "execution_count": 10,
     "metadata": {},
     "output_type": "execute_result"
    },
    {
     "data": {
      "image/png": "[encoded data removed]",
      "text/plain": [
       "<Figure size 432x432 with 3 Axes>"
      ]
     },
     "metadata": {
      "needs_background": "light"
     },
     "output_type": "display_data"
    }
   ],
   "source": [
    "sns.jointplot(x=\"str\", y=\"testscr\", data=ca_schools)"
   ]
  },
  {
   "cell_type": "code",
   "execution_count": 11,
   "metadata": {},
   "outputs": [
    {
     "data": {
      "text/plain": [
       "<seaborn.axisgrid.JointGrid at 0x1d93ef228d0>"
      ]
     },
     "execution_count": 11,
     "metadata": {},
     "output_type": "execute_result"
    },
    {
     "data": {
      "image/png": "[encoded data removed]",
      "text/plain": [
       "<Figure size 432x432 with 3 Axes>"
      ]
     },
     "metadata": {
      "needs_background": "light"
     },
     "output_type": "display_data"
    }
   ],
   "source": [
    "sns.jointplot(x=\"avginc\", y=\"testscr\", data=ca_schools)"
   ]
  },
  {
   "cell_type": "markdown",
   "metadata": {},
   "source": [
    "### 1.3 Split data in training and test set. Build models that evaluate the relationship between all available X variables in the California test dataset and the target variable. Evaluate KNN for regression, Linear Regression (OLS), Ridge, and Lasso using cross-validation with the default parameters. Does scaling the data with the StandardScaler help?"
   ]
  },
  {
   "cell_type": "markdown",
   "metadata": {},
   "source": [
    "#### Split data in training and test set"
   ]
  },
  {
   "cell_type": "code",
   "execution_count": 32,
   "metadata": {},
   "outputs": [],
   "source": [
    "y = ca_schools['testscr']\n",
    "y=y.astype(\"int64\")"
   ]
  },
  {
   "cell_type": "code",
   "execution_count": 33,
   "metadata": {},
   "outputs": [],
   "source": [
    "X = ca_schools.drop(['Unnamed: 0', 'county', 'district','grspan','testscr'], axis=1)\n"
   ]
  },
  {
   "cell_type": "code",
   "execution_count": 34,
   "metadata": {},
   "outputs": [],
   "source": [
    "from sklearn.model_selection import train_test_split\n",
    "X_train, X_test, y_train, y_test = train_test_split(X, y)"
   ]
  },
  {
   "cell_type": "code",
   "execution_count": 35,
   "metadata": {},
   "outputs": [],
   "source": [
    "from sklearn import preprocessing\n",
    "scaler = preprocessing.StandardScaler().fit(X_train)\n",
    "X_train_scaled = scaler.transform(X_train)\n",
    "X_test_scaled = scaler.transform(X_test)"
   ]
  },
  {
   "cell_type": "code",
   "execution_count": 16,
   "metadata": {},
   "outputs": [],
   "source": [
    "from sklearn.model_selection import cross_val_score\n",
    "from sklearn.model_selection import RepeatedKFold\n",
    "from sklearn.model_selection import StratifiedKFold\n",
    "from sklearn.model_selection import KFold\n",
    "\n",
    "kfold = KFold(n_splits=5)\n",
    "skfold = StratifiedKFold(n_splits=5, shuffle=True)\n",
    "rkf = RepeatedKFold(n_splits=5, n_repeats=10)"
   ]
  },
  {
   "cell_type": "markdown",
   "metadata": {},
   "source": [
    "### KNN for Regression"
   ]
  },
  {
   "cell_type": "code",
   "execution_count": 17,
   "metadata": {},
   "outputs": [
    {
     "name": "stdout",
     "output_type": "stream",
     "text": [
      "R^2: 0.04\n"
     ]
    }
   ],
   "source": [
    "from sklearn.neighbors import KNeighborsRegressor\n",
    "\n",
    "knn = KNeighborsRegressor(n_neighbors=5)\n",
    "knn.fit(X_train, y_train)\n",
    "\n",
    "\n",
    "print(\"R^2: {:.2f}\".format(knn.score(X_test, y_test)))\n",
    "\n",
    "y_pred = knn.predict(X_test)"
   ]
  },
  {
   "cell_type": "markdown",
   "metadata": {},
   "source": [
    "#### KNN for Regression w/ Scaled Data"
   ]
  },
  {
   "cell_type": "code",
   "execution_count": 18,
   "metadata": {},
   "outputs": [
    {
     "name": "stdout",
     "output_type": "stream",
     "text": [
      "R^2: 0.69\n"
     ]
    }
   ],
   "source": [
    "knn = KNeighborsRegressor(n_neighbors=5)\n",
    "knn.fit(X_train_scaled, y_train)\n",
    "\n",
    "print(\"R^2: {:.2f}\".format(knn.score(X_test_scaled, y_test)))\n"
   ]
  },
  {
   "cell_type": "markdown",
   "metadata": {},
   "source": [
    "Scaling the data using the Standard Scalar, which standardizes by calculating a standard score. This score is calculated through the use of the following formula: z = (x-u)/s. Where z is the score, x is the unit to be standardized u is the mean of the data samples and s is their standard deviation. In the case of KNN Regression standardizing the data has produced a model with greater explanatory power, as we can see an increase in R^2 from 0.04 to 0.69 suggesting that when standardized 69% of the variation in y can be explained by x, where only 4% can be explained given no standardization.\n",
    "\n",
    "\n",
    "Sources: \n",
    "1. https://scikit-learn.org/stable/modules/generated/sklearn.preprocessing.StandardScaler.html\n",
    "2. QMSSGR5073 'Preprocessing Data.ipynb', \"Using StandardScaler()"
   ]
  },
  {
   "cell_type": "markdown",
   "metadata": {},
   "source": [
    "#### KNN for Regression Cross Validation"
   ]
  },
  {
   "cell_type": "code",
   "execution_count": 44,
   "metadata": {},
   "outputs": [
    {
     "name": "stdout",
     "output_type": "stream",
     "text": [
      "KFold Mean:\n",
      "-16.071366760448093\n",
      "StratifiedKFold Mean:\n",
      "0.01232438589727749\n",
      "RepeatedKFold Mean:\n",
      "-0.017588968334293246\n"
     ]
    }
   ],
   "source": [
    "#Empty space in regressor assumes n_neighbors = 5\n",
    "\n",
    "print(\"KFold Mean:\\n{}\".format(\n",
    "cross_val_score(KNeighborsRegressor(), X, y, cv=kfold).mean()))\n",
    "\n",
    "print(\"StratifiedKFold Mean:\\n{}\".format(\n",
    "cross_val_score(KNeighborsRegressor(), X, y, cv=skfold).mean()))\n",
    "\n",
    "print(\"RepeatedKFold Mean:\\n{}\".format(\n",
    "cross_val_score(KNeighborsRegressor(), X, y, cv=rkf).mean()))\n"
   ]
  },
  {
   "cell_type": "markdown",
   "metadata": {},
   "source": [
    "We see that when apply different types of cross-validation, holding the n_ neighbors  constant, we get back some negative scores (these scores equate to the average R^2 for the runs of cross validation) Upon running the model with the test and train data the negatives went away, however no examples on scikit or the notes suggest using the split data. Found examples use the data as a whole separated by X (independent variables) and y (dependent variables). As a result, the previous cell was provided, despite the negative measure of R^2. Do note the stratified KFold mean is positive, which appears to suggest that we can get some small positive explanatory power by ensuring that each fold has the same proportion of observations. \n",
    "\n",
    "Sources:\n",
    "1. https://scikit-learn.org/stable/modules/generated/sklearn.model_selection.cross_val_score.html?highlight=cross_val_score#sklearn.model_selection.cross_val_score\n",
    "2. QMSSGR5073 \"Knn_CV_and_Model_Tuning.ipynb, 'Using Cross validation for model evaluation'\"\n",
    "\n",
    "3. https://towardsdatascience.com/cross-validation-explained-evaluating-estimator-performance-e51e5430ff85"
   ]
  },
  {
   "cell_type": "markdown",
   "metadata": {},
   "source": [
    "### Linear Regression (OLS)"
   ]
  },
  {
   "cell_type": "code",
   "execution_count": 45,
   "metadata": {},
   "outputs": [],
   "source": [
    "from sklearn.linear_model import LinearRegression\n",
    "import statsmodels.api as sm"
   ]
  },
  {
   "cell_type": "code",
   "execution_count": 46,
   "metadata": {},
   "outputs": [],
   "source": [
    "X_train, X_test, y_train, y_test = train_test_split(X, y, random_state=42) "
   ]
  },
  {
   "cell_type": "markdown",
   "metadata": {},
   "source": [
    "#### Linear Regression (OLS) w/ Non-Scaled Data"
   ]
  },
  {
   "cell_type": "code",
   "execution_count": 47,
   "metadata": {},
   "outputs": [],
   "source": [
    "lr = LinearRegression().fit(X_train, y_train)"
   ]
  },
  {
   "cell_type": "code",
   "execution_count": 48,
   "metadata": {},
   "outputs": [
    {
     "data": {
      "text/html": [
       "<table class=\"simpletable\">\n",
       "<caption>OLS Regression Results</caption>\n",
       "<tr>\n",
       "  <th>Dep. Variable:</th>         <td>testscr</td>     <th>  R-squared:         </th> <td>   0.805</td> \n",
       "</tr>\n",
       "<tr>\n",
       "  <th>Model:</th>                   <td>OLS</td>       <th>  Adj. R-squared:    </th> <td>   0.799</td> \n",
       "</tr>\n",
       "<tr>\n",
       "  <th>Method:</th>             <td>Least Squares</td>  <th>  F-statistic:       </th> <td>   125.5</td> \n",
       "</tr>\n",
       "<tr>\n",
       "  <th>Date:</th>             <td>Mon, 02 Mar 2020</td> <th>  Prob (F-statistic):</th> <td>1.24e-101</td>\n",
       "</tr>\n",
       "<tr>\n",
       "  <th>Time:</th>                 <td>11:32:12</td>     <th>  Log-Likelihood:    </th> <td> -1099.0</td> \n",
       "</tr>\n",
       "<tr>\n",
       "  <th>No. Observations:</th>      <td>   315</td>      <th>  AIC:               </th> <td>   2220.</td> \n",
       "</tr>\n",
       "<tr>\n",
       "  <th>Df Residuals:</th>          <td>   304</td>      <th>  BIC:               </th> <td>   2261.</td> \n",
       "</tr>\n",
       "<tr>\n",
       "  <th>Df Model:</th>              <td>    10</td>      <th>                     </th>     <td> </td>    \n",
       "</tr>\n",
       "<tr>\n",
       "  <th>Covariance Type:</th>      <td>nonrobust</td>    <th>                     </th>     <td> </td>    \n",
       "</tr>\n",
       "</table>\n",
       "<table class=\"simpletable\">\n",
       "<tr>\n",
       "      <td></td>        <th>coef</th>     <th>std err</th>      <th>t</th>      <th>P>|t|</th>  <th>[0.025</th>    <th>0.975]</th>  \n",
       "</tr>\n",
       "<tr>\n",
       "  <th>const</th>    <td>  663.1277</td> <td>   10.936</td> <td>   60.635</td> <td> 0.000</td> <td>  641.607</td> <td>  684.648</td>\n",
       "</tr>\n",
       "<tr>\n",
       "  <th>enrltot</th>  <td>    0.0002</td> <td>    0.002</td> <td>    0.095</td> <td> 0.924</td> <td>   -0.003</td> <td>    0.004</td>\n",
       "</tr>\n",
       "<tr>\n",
       "  <th>teachers</th> <td>   -0.0080</td> <td>    0.038</td> <td>   -0.208</td> <td> 0.835</td> <td>   -0.083</td> <td>    0.067</td>\n",
       "</tr>\n",
       "<tr>\n",
       "  <th>calwpct</th>  <td>   -0.1048</td> <td>    0.068</td> <td>   -1.542</td> <td> 0.124</td> <td>   -0.239</td> <td>    0.029</td>\n",
       "</tr>\n",
       "<tr>\n",
       "  <th>mealpct</th>  <td>   -0.3639</td> <td>    0.042</td> <td>   -8.745</td> <td> 0.000</td> <td>   -0.446</td> <td>   -0.282</td>\n",
       "</tr>\n",
       "<tr>\n",
       "  <th>computer</th> <td>    0.0022</td> <td>    0.003</td> <td>    0.661</td> <td> 0.509</td> <td>   -0.004</td> <td>    0.009</td>\n",
       "</tr>\n",
       "<tr>\n",
       "  <th>compstu</th>  <td>   -1.3673</td> <td>    8.528</td> <td>   -0.160</td> <td> 0.873</td> <td>  -18.149</td> <td>   15.415</td>\n",
       "</tr>\n",
       "<tr>\n",
       "  <th>expnstu</th>  <td>    0.0019</td> <td>    0.001</td> <td>    1.911</td> <td> 0.057</td> <td>-5.65e-05</td> <td>    0.004</td>\n",
       "</tr>\n",
       "<tr>\n",
       "  <th>str</th>      <td>   -0.3460</td> <td>    0.367</td> <td>   -0.942</td> <td> 0.347</td> <td>   -1.069</td> <td>    0.377</td>\n",
       "</tr>\n",
       "<tr>\n",
       "  <th>avginc</th>   <td>    0.5201</td> <td>    0.096</td> <td>    5.395</td> <td> 0.000</td> <td>    0.330</td> <td>    0.710</td>\n",
       "</tr>\n",
       "<tr>\n",
       "  <th>elpct</th>    <td>   -0.1963</td> <td>    0.042</td> <td>   -4.681</td> <td> 0.000</td> <td>   -0.279</td> <td>   -0.114</td>\n",
       "</tr>\n",
       "</table>\n",
       "<table class=\"simpletable\">\n",
       "<tr>\n",
       "  <th>Omnibus:</th>       <td> 1.564</td> <th>  Durbin-Watson:     </th> <td>   1.873</td>\n",
       "</tr>\n",
       "<tr>\n",
       "  <th>Prob(Omnibus):</th> <td> 0.457</td> <th>  Jarque-Bera (JB):  </th> <td>   1.377</td>\n",
       "</tr>\n",
       "<tr>\n",
       "  <th>Skew:</th>          <td> 0.016</td> <th>  Prob(JB):          </th> <td>   0.502</td>\n",
       "</tr>\n",
       "<tr>\n",
       "  <th>Kurtosis:</th>      <td> 3.322</td> <th>  Cond. No.          </th> <td>1.58e+05</td>\n",
       "</tr>\n",
       "</table><br/><br/>Warnings:<br/>[1] Standard Errors assume that the covariance matrix of the errors is correctly specified.<br/>[2] The condition number is large, 1.58e+05. This might indicate that there are<br/>strong multicollinearity or other numerical problems."
      ],
      "text/plain": [
       "<class 'statsmodels.iolib.summary.Summary'>\n",
       "\"\"\"\n",
       "                            OLS Regression Results                            \n",
       "==============================================================================\n",
       "Dep. Variable:                testscr   R-squared:                       0.805\n",
       "Model:                            OLS   Adj. R-squared:                  0.799\n",
       "Method:                 Least Squares   F-statistic:                     125.5\n",
       "Date:                Mon, 02 Mar 2020   Prob (F-statistic):          1.24e-101\n",
       "Time:                        11:32:12   Log-Likelihood:                -1099.0\n",
       "No. Observations:                 315   AIC:                             2220.\n",
       "Df Residuals:                     304   BIC:                             2261.\n",
       "Df Model:                          10                                         \n",
       "Covariance Type:            nonrobust                                         \n",
       "==============================================================================\n",
       "                 coef    std err          t      P>|t|      [0.025      0.975]\n",
       "------------------------------------------------------------------------------\n",
       "const        663.1277     10.936     60.635      0.000     641.607     684.648\n",
       "enrltot        0.0002      0.002      0.095      0.924      -0.003       0.004\n",
       "teachers      -0.0080      0.038     -0.208      0.835      -0.083       0.067\n",
       "calwpct       -0.1048      0.068     -1.542      0.124      -0.239       0.029\n",
       "mealpct       -0.3639      0.042     -8.745      0.000      -0.446      -0.282\n",
       "computer       0.0022      0.003      0.661      0.509      -0.004       0.009\n",
       "compstu       -1.3673      8.528     -0.160      0.873     -18.149      15.415\n",
       "expnstu        0.0019      0.001      1.911      0.057   -5.65e-05       0.004\n",
       "str           -0.3460      0.367     -0.942      0.347      -1.069       0.377\n",
       "avginc         0.5201      0.096      5.395      0.000       0.330       0.710\n",
       "elpct         -0.1963      0.042     -4.681      0.000      -0.279      -0.114\n",
       "==============================================================================\n",
       "Omnibus:                        1.564   Durbin-Watson:                   1.873\n",
       "Prob(Omnibus):                  0.457   Jarque-Bera (JB):                1.377\n",
       "Skew:                           0.016   Prob(JB):                        0.502\n",
       "Kurtosis:                       3.322   Cond. No.                     1.58e+05\n",
       "==============================================================================\n",
       "\n",
       "Warnings:\n",
       "[1] Standard Errors assume that the covariance matrix of the errors is correctly specified.\n",
       "[2] The condition number is large, 1.58e+05. This might indicate that there are\n",
       "strong multicollinearity or other numerical problems.\n",
       "\"\"\""
      ]
     },
     "execution_count": 48,
     "metadata": {},
     "output_type": "execute_result"
    }
   ],
   "source": [
    "X_train_new = sm.add_constant(X_train) \n",
    "model = sm.OLS(y_train, X_train_new ).fit() \n",
    "\n",
    "model.summary() "
   ]
  },
  {
   "cell_type": "markdown",
   "metadata": {},
   "source": [
    "#### Linear Regression w/ Scaled Data "
   ]
  },
  {
   "cell_type": "code",
   "execution_count": 49,
   "metadata": {},
   "outputs": [
    {
     "data": {
      "text/html": [
       "<table class=\"simpletable\">\n",
       "<caption>OLS Regression Results</caption>\n",
       "<tr>\n",
       "  <th>Dep. Variable:</th>         <td>testscr</td>     <th>  R-squared:         </th> <td>   0.009</td>\n",
       "</tr>\n",
       "<tr>\n",
       "  <th>Model:</th>                   <td>OLS</td>       <th>  Adj. R-squared:    </th> <td>  -0.023</td>\n",
       "</tr>\n",
       "<tr>\n",
       "  <th>Method:</th>             <td>Least Squares</td>  <th>  F-statistic:       </th> <td>  0.2893</td>\n",
       "</tr>\n",
       "<tr>\n",
       "  <th>Date:</th>             <td>Mon, 02 Mar 2020</td> <th>  Prob (F-statistic):</th>  <td> 0.983</td> \n",
       "</tr>\n",
       "<tr>\n",
       "  <th>Time:</th>                 <td>11:32:27</td>     <th>  Log-Likelihood:    </th> <td> -1354.9</td>\n",
       "</tr>\n",
       "<tr>\n",
       "  <th>No. Observations:</th>      <td>   315</td>      <th>  AIC:               </th> <td>   2732.</td>\n",
       "</tr>\n",
       "<tr>\n",
       "  <th>Df Residuals:</th>          <td>   304</td>      <th>  BIC:               </th> <td>   2773.</td>\n",
       "</tr>\n",
       "<tr>\n",
       "  <th>Df Model:</th>              <td>    10</td>      <th>                     </th>     <td> </td>   \n",
       "</tr>\n",
       "<tr>\n",
       "  <th>Covariance Type:</th>      <td>nonrobust</td>    <th>                     </th>     <td> </td>   \n",
       "</tr>\n",
       "</table>\n",
       "<table class=\"simpletable\">\n",
       "<tr>\n",
       "    <td></td>       <th>coef</th>     <th>std err</th>      <th>t</th>      <th>P>|t|</th>  <th>[0.025</th>    <th>0.975]</th>  \n",
       "</tr>\n",
       "<tr>\n",
       "  <th>const</th> <td>  653.8063</td> <td>    1.024</td> <td>  638.376</td> <td> 0.000</td> <td>  651.791</td> <td>  655.822</td>\n",
       "</tr>\n",
       "<tr>\n",
       "  <th>x1</th>    <td>    5.5483</td> <td>   15.980</td> <td>    0.347</td> <td> 0.729</td> <td>  -25.898</td> <td>   36.995</td>\n",
       "</tr>\n",
       "<tr>\n",
       "  <th>x2</th>    <td>   -5.8866</td> <td>   17.138</td> <td>   -0.343</td> <td> 0.731</td> <td>  -39.610</td> <td>   27.837</td>\n",
       "</tr>\n",
       "<tr>\n",
       "  <th>x3</th>    <td>   -0.1447</td> <td>    1.728</td> <td>   -0.084</td> <td> 0.933</td> <td>   -3.544</td> <td>    3.255</td>\n",
       "</tr>\n",
       "<tr>\n",
       "  <th>x4</th>    <td>   -1.4030</td> <td>    2.539</td> <td>   -0.552</td> <td> 0.581</td> <td>   -6.400</td> <td>    3.594</td>\n",
       "</tr>\n",
       "<tr>\n",
       "  <th>x5</th>    <td>    0.6326</td> <td>    3.486</td> <td>    0.181</td> <td> 0.856</td> <td>   -6.226</td> <td>    7.492</td>\n",
       "</tr>\n",
       "<tr>\n",
       "  <th>x6</th>    <td>   -0.1151</td> <td>    1.241</td> <td>   -0.093</td> <td> 0.926</td> <td>   -2.557</td> <td>    2.326</td>\n",
       "</tr>\n",
       "<tr>\n",
       "  <th>x7</th>    <td>    0.7187</td> <td>    1.429</td> <td>    0.503</td> <td> 0.615</td> <td>   -2.093</td> <td>    3.531</td>\n",
       "</tr>\n",
       "<tr>\n",
       "  <th>x8</th>    <td>   -0.1529</td> <td>    1.539</td> <td>   -0.099</td> <td> 0.921</td> <td>   -3.182</td> <td>    2.876</td>\n",
       "</tr>\n",
       "<tr>\n",
       "  <th>x9</th>    <td>   -1.3574</td> <td>    1.577</td> <td>   -0.861</td> <td> 0.390</td> <td>   -4.460</td> <td>    1.745</td>\n",
       "</tr>\n",
       "<tr>\n",
       "  <th>x10</th>   <td>    1.8683</td> <td>    1.669</td> <td>    1.119</td> <td> 0.264</td> <td>   -1.417</td> <td>    5.153</td>\n",
       "</tr>\n",
       "</table>\n",
       "<table class=\"simpletable\">\n",
       "<tr>\n",
       "  <th>Omnibus:</th>       <td> 0.609</td> <th>  Durbin-Watson:     </th> <td>   1.892</td>\n",
       "</tr>\n",
       "<tr>\n",
       "  <th>Prob(Omnibus):</th> <td> 0.737</td> <th>  Jarque-Bera (JB):  </th> <td>   0.713</td>\n",
       "</tr>\n",
       "<tr>\n",
       "  <th>Skew:</th>          <td> 0.011</td> <th>  Prob(JB):          </th> <td>   0.700</td>\n",
       "</tr>\n",
       "<tr>\n",
       "  <th>Kurtosis:</th>      <td> 2.768</td> <th>  Cond. No.          </th> <td>    43.4</td>\n",
       "</tr>\n",
       "</table><br/><br/>Warnings:<br/>[1] Standard Errors assume that the covariance matrix of the errors is correctly specified."
      ],
      "text/plain": [
       "<class 'statsmodels.iolib.summary.Summary'>\n",
       "\"\"\"\n",
       "                            OLS Regression Results                            \n",
       "==============================================================================\n",
       "Dep. Variable:                testscr   R-squared:                       0.009\n",
       "Model:                            OLS   Adj. R-squared:                 -0.023\n",
       "Method:                 Least Squares   F-statistic:                    0.2893\n",
       "Date:                Mon, 02 Mar 2020   Prob (F-statistic):              0.983\n",
       "Time:                        11:32:27   Log-Likelihood:                -1354.9\n",
       "No. Observations:                 315   AIC:                             2732.\n",
       "Df Residuals:                     304   BIC:                             2773.\n",
       "Df Model:                          10                                         \n",
       "Covariance Type:            nonrobust                                         \n",
       "==============================================================================\n",
       "                 coef    std err          t      P>|t|      [0.025      0.975]\n",
       "------------------------------------------------------------------------------\n",
       "const        653.8063      1.024    638.376      0.000     651.791     655.822\n",
       "x1             5.5483     15.980      0.347      0.729     -25.898      36.995\n",
       "x2            -5.8866     17.138     -0.343      0.731     -39.610      27.837\n",
       "x3            -0.1447      1.728     -0.084      0.933      -3.544       3.255\n",
       "x4            -1.4030      2.539     -0.552      0.581      -6.400       3.594\n",
       "x5             0.6326      3.486      0.181      0.856      -6.226       7.492\n",
       "x6            -0.1151      1.241     -0.093      0.926      -2.557       2.326\n",
       "x7             0.7187      1.429      0.503      0.615      -2.093       3.531\n",
       "x8            -0.1529      1.539     -0.099      0.921      -3.182       2.876\n",
       "x9            -1.3574      1.577     -0.861      0.390      -4.460       1.745\n",
       "x10            1.8683      1.669      1.119      0.264      -1.417       5.153\n",
       "==============================================================================\n",
       "Omnibus:                        0.609   Durbin-Watson:                   1.892\n",
       "Prob(Omnibus):                  0.737   Jarque-Bera (JB):                0.713\n",
       "Skew:                           0.011   Prob(JB):                        0.700\n",
       "Kurtosis:                       2.768   Cond. No.                         43.4\n",
       "==============================================================================\n",
       "\n",
       "Warnings:\n",
       "[1] Standard Errors assume that the covariance matrix of the errors is correctly specified.\n",
       "\"\"\""
      ]
     },
     "execution_count": 49,
     "metadata": {},
     "output_type": "execute_result"
    }
   ],
   "source": [
    "X_train_new = sm.add_constant(X_train_scaled) \n",
    "model = sm.OLS(y_train, X_train_new).fit() \n",
    "\n",
    "model.summary() "
   ]
  },
  {
   "cell_type": "markdown",
   "metadata": {},
   "source": [
    "In the case of Linear Regression, scaling the data has a negative impact on the explanatory power of the model. We see some changes in the size of the coefficients, and the decrease of t-stats, which suggest the variables should not be included in the model, as one cannot reject the null hypothesis that the independent variables explain nothing with regard to our y (dependent variable)."
   ]
  },
  {
   "cell_type": "markdown",
   "metadata": {},
   "source": [
    "#### Linear Regression Cross Validation"
   ]
  },
  {
   "cell_type": "code",
   "execution_count": 53,
   "metadata": {},
   "outputs": [
    {
     "name": "stdout",
     "output_type": "stream",
     "text": [
      "KFold:\n",
      "-4.379031971136683\n",
      "StratifiedKFold:\n",
      "0.80008382405661\n",
      "RepeatedKFold:\n",
      "0.7926505547400525\n"
     ]
    }
   ],
   "source": [
    "print(\"KFold:\\n{}\".format(\n",
    "cross_val_score(LinearRegression(), X, y, cv=kfold).mean()))\n",
    "\n",
    "print(\"StratifiedKFold:\\n{}\".format(\n",
    "cross_val_score(LinearRegression(), X, y, cv=skfold).mean()))\n",
    "\n",
    "print(\"RepeatedKFold:\\n{}\".format(\n",
    "cross_val_score(LinearRegression(), X, y, cv=rkf).mean()))\n",
    "\n"
   ]
  },
  {
   "cell_type": "markdown",
   "metadata": {},
   "source": [
    "We see that when apply different types of cross-validation we get back a negative score from KFold. Cross Validation through Stratified Kfold and Repeated Kfold suggest that the independent variables in the linear regression can explain 80% of the variation in our dependent variable. "
   ]
  },
  {
   "cell_type": "markdown",
   "metadata": {},
   "source": [
    "### Ridge Regression "
   ]
  },
  {
   "cell_type": "code",
   "execution_count": 54,
   "metadata": {},
   "outputs": [],
   "source": [
    "from sklearn.linear_model import Ridge\n",
    "from sklearn.linear_model import RidgeCV\n"
   ]
  },
  {
   "cell_type": "markdown",
   "metadata": {},
   "source": [
    "#### Ridge Regression w/ Non-Scaled Data"
   ]
  },
  {
   "cell_type": "code",
   "execution_count": 65,
   "metadata": {},
   "outputs": [
    {
     "name": "stdout",
     "output_type": "stream",
     "text": [
      "Training R^2: 0.80\n",
      "Test R^2: 0.81\n"
     ]
    }
   ],
   "source": [
    "ridge = Ridge().fit(X_train, y_train)\n",
    "print(\"Training R^2: {:.2f}\".format(ridge.score(X_train, y_train)))\n",
    "print(\"Test R^2: {:.2f}\".format(ridge.score(X_test, y_test)))"
   ]
  },
  {
   "cell_type": "markdown",
   "metadata": {},
   "source": [
    "#### Ridge Regression w/ Scaled Data"
   ]
  },
  {
   "cell_type": "code",
   "execution_count": 62,
   "metadata": {},
   "outputs": [],
   "source": [
    "scaler = preprocessing.StandardScaler()\n",
    "scaler.fit(X_train)\n",
    "X_train_scaled = scaler.transform(X_train)\n",
    "X_test_scaled = scaler.transform(X_test)\n"
   ]
  },
  {
   "cell_type": "code",
   "execution_count": 64,
   "metadata": {},
   "outputs": [
    {
     "name": "stdout",
     "output_type": "stream",
     "text": [
      "Training R^2: 0.80\n",
      "Test R^2: 0.81\n"
     ]
    }
   ],
   "source": [
    "ridge = Ridge().fit(X_train_scaled, y_train) \n",
    "print(\"Training R^2: {:.2f}\".format(ridge.score(X_train_scaled, y_train)))\n",
    "print(\"Test R^2: {:.2f}\".format(ridge.score(X_test_scaled, y_test))) "
   ]
  },
  {
   "cell_type": "markdown",
   "metadata": {},
   "source": [
    "This ridge regression does not seem to experience a change in explanatory power given the scaled data. "
   ]
  },
  {
   "cell_type": "markdown",
   "metadata": {},
   "source": [
    "#### Ridge Regression Cross Validaion"
   ]
  },
  {
   "cell_type": "code",
   "execution_count": 66,
   "metadata": {},
   "outputs": [
    {
     "name": "stdout",
     "output_type": "stream",
     "text": [
      "KFold:\n",
      "-4.3006576536144925\n",
      "StratifiedKFold:\n",
      "0.8047688959618053\n",
      "RepeatedKFold:\n",
      "0.7917275577377194\n"
     ]
    }
   ],
   "source": [
    "print(\"KFold:\\n{}\".format(\n",
    "cross_val_score(Ridge(), X, y, cv=kfold).mean()))\n",
    "\n",
    "print(\"StratifiedKFold:\\n{}\".format(\n",
    "cross_val_score(Ridge(), X, y, cv=skfold).mean()))\n",
    "\n",
    "print(\"RepeatedKFold:\\n{}\".format(\n",
    "cross_val_score(Ridge(), X, y, cv=rkf).mean()))\n",
    "\n"
   ]
  },
  {
   "cell_type": "markdown",
   "metadata": {},
   "source": [
    "We see that when apply different types of cross-validation we get back a negative score from KFold. Cross Validation through Stratified Kfold and Repeated Kfold suggest that the independent variables in the ridge regression can explain roughly 80% of the variation in our dependent variable."
   ]
  },
  {
   "cell_type": "markdown",
   "metadata": {},
   "source": [
    "### Lasso Regression "
   ]
  },
  {
   "cell_type": "markdown",
   "metadata": {},
   "source": [
    "#### Lasso Regression w/ Non-Scaled Data"
   ]
  },
  {
   "cell_type": "code",
   "execution_count": 68,
   "metadata": {},
   "outputs": [],
   "source": [
    "from sklearn.linear_model import Lasso"
   ]
  },
  {
   "cell_type": "code",
   "execution_count": 69,
   "metadata": {},
   "outputs": [
    {
     "name": "stdout",
     "output_type": "stream",
     "text": [
      "Training R^2: 0.80\n",
      "Test R^2: 0.81\n",
      "Number of features used: 8\n"
     ]
    }
   ],
   "source": [
    "lasso = Lasso().fit(X_train, y_train)\n",
    "print(\"Training R^2: {:.2f}\".format(lasso.score(X_train, y_train)))\n",
    "print(\"Test R^2: {:.2f}\".format(lasso.score(X_test, y_test)))\n",
    "print(\"Number of features used: {}\".format(np.sum(lasso.coef_ != 0))) \n",
    "#print(\"lasso.coef_: {}\".format(lasso.coef_))"
   ]
  },
  {
   "cell_type": "markdown",
   "metadata": {},
   "source": [
    "#### Lasso Regressoion w/ Scaled Data"
   ]
  },
  {
   "cell_type": "code",
   "execution_count": 71,
   "metadata": {},
   "outputs": [
    {
     "name": "stdout",
     "output_type": "stream",
     "text": [
      "Training R^2: 0.80\n",
      "Test R^2: 0.79\n",
      "Number of features used: 5\n"
     ]
    }
   ],
   "source": [
    "lasso = Lasso().fit(X_train_scaled, y_train)\n",
    "print(\"Training R^2: {:.2f}\".format(lasso.score(X_train_scaled, y_train)))\n",
    "print(\"Test R^2: {:.2f}\".format(lasso.score(X_test_scaled, y_test)))\n",
    "print(\"Number of features used: {}\".format(np.sum(lasso.coef_ != 0)))  \n",
    "\n",
    "#print(\"lasso.coef_: {}\".format(lasso.coef_))"
   ]
  },
  {
   "cell_type": "markdown",
   "metadata": {},
   "source": [
    "This lasso regression seems to experience a change in explanatory power given the scaled data, but it is very small and negative. This change is only with regard to the explanatory power on the testing data."
   ]
  },
  {
   "cell_type": "markdown",
   "metadata": {},
   "source": [
    "#### Lasso Regression Cross Validation "
   ]
  },
  {
   "cell_type": "code",
   "execution_count": 72,
   "metadata": {},
   "outputs": [
    {
     "name": "stdout",
     "output_type": "stream",
     "text": [
      "KFold:\n",
      "-4.28885690538308\n",
      "StratifiedKFold:\n",
      "0.8009257618920553\n",
      "RepeatedKFold:\n",
      "0.7937523019896281\n"
     ]
    }
   ],
   "source": [
    "print(\"KFold:\\n{}\".format(\n",
    "cross_val_score(Lasso(), X, y, cv=kfold).mean()))\n",
    "\n",
    "print(\"StratifiedKFold:\\n{}\".format(\n",
    "cross_val_score(Lasso(), X, y, cv=skfold).mean()))\n",
    "\n",
    "print(\"RepeatedKFold:\\n{}\".format(\n",
    "cross_val_score(Lasso(), X, y, cv=rkf).mean()))\n",
    "\n"
   ]
  },
  {
   "cell_type": "markdown",
   "metadata": {},
   "source": [
    "We see that when apply different types of cross-validation we get back a negative score from KFold. Cross Validation through Stratified Kfold and Repeated Kfold suggest that the independent variables in the lasso regression can explain roughly 80% of the variation in our dependent variable."
   ]
  },
  {
   "cell_type": "markdown",
   "metadata": {},
   "source": [
    "### 1.4 Tune the parameters of the models where possible using GridSearchCV. Do the results improve?"
   ]
  },
  {
   "cell_type": "code",
   "execution_count": 76,
   "metadata": {},
   "outputs": [],
   "source": [
    "from sklearn.pipeline import make_pipeline\n",
    "from sklearn.model_selection import GridSearchCV\n",
    "from sklearn.preprocessing import StandardScaler"
   ]
  },
  {
   "cell_type": "markdown",
   "metadata": {},
   "source": [
    "#### KNN GridSearch CV"
   ]
  },
  {
   "cell_type": "code",
   "execution_count": 77,
   "metadata": {},
   "outputs": [],
   "source": [
    "knn_pipe = make_pipeline(KNeighborsRegressor())"
   ]
  },
  {
   "cell_type": "code",
   "execution_count": 80,
   "metadata": {},
   "outputs": [
    {
     "name": "stdout",
     "output_type": "stream",
     "text": [
      "{'kneighborsregressor__n_neighbors': 9}\n",
      "-0.016257788001062312\n"
     ]
    }
   ],
   "source": [
    "param_grid = {'kneighborsregressor__n_neighbors': range(1, 10)}\n",
    "grid = GridSearchCV(knn_pipe, param_grid, cv=10)\n",
    "grid.fit(X_train, y_train)\n",
    "print(grid.best_params_)\n",
    "print(grid.best_score_)"
   ]
  },
  {
   "cell_type": "code",
   "execution_count": 81,
   "metadata": {},
   "outputs": [],
   "source": [
    "knn_pipe = make_pipeline(StandardScaler(), KNeighborsRegressor())"
   ]
  },
  {
   "cell_type": "code",
   "execution_count": 82,
   "metadata": {},
   "outputs": [
    {
     "name": "stdout",
     "output_type": "stream",
     "text": [
      "{'kneighborsregressor__n_neighbors': 7}\n",
      "0.7172474999397614\n"
     ]
    }
   ],
   "source": [
    "param_grid = {'kneighborsregressor__n_neighbors': range(1, 10)}\n",
    "grid = GridSearchCV(knn_pipe, param_grid, cv=10)\n",
    "grid.fit(X_train, y_train)\n",
    "print(grid.best_params_)\n",
    "print(grid.best_score_)\n"
   ]
  },
  {
   "cell_type": "markdown",
   "metadata": {},
   "source": [
    "GridSearch CV appears to suggest that for the KNN regressor benefits from scaling, as the R^2 has become positive. the ideal n_neighbors would be 7 and this would produce a model with an explanatory power of 0.717, which suggests that 72% of the variation in y (dependent variable) can be explained by x (independent variables)"
   ]
  },
  {
   "cell_type": "markdown",
   "metadata": {},
   "source": [
    "#### Ridge Regression GridSearch CV"
   ]
  },
  {
   "cell_type": "code",
   "execution_count": 83,
   "metadata": {},
   "outputs": [],
   "source": [
    "ridge_pipe = make_pipeline(Ridge())"
   ]
  },
  {
   "cell_type": "code",
   "execution_count": 84,
   "metadata": {},
   "outputs": [
    {
     "name": "stdout",
     "output_type": "stream",
     "text": [
      "{'ridge__alpha': 1000}\n",
      "0.7822304800155856\n"
     ]
    }
   ],
   "source": [
    "param_grid = {'ridge__alpha': [0.01, 0.1, 1, 10, 100,1000,10000]}\n",
    "grid = GridSearchCV(ridge_pipe, param_grid, cv=10)\n",
    "grid.fit(X_train, y_train)\n",
    "print(grid.best_params_)\n",
    "print(grid.best_score_)"
   ]
  },
  {
   "cell_type": "code",
   "execution_count": 85,
   "metadata": {},
   "outputs": [],
   "source": [
    "ridge_pipe = make_pipeline(StandardScaler(), Ridge())"
   ]
  },
  {
   "cell_type": "code",
   "execution_count": 86,
   "metadata": {
    "scrolled": true
   },
   "outputs": [
    {
     "name": "stdout",
     "output_type": "stream",
     "text": [
      "{'ridge__alpha': 10}\n",
      "0.7828517182362517\n"
     ]
    }
   ],
   "source": [
    "param_grid = {'ridge__alpha': [0.01, 0.1, 1, 10, 100,1000,10000]}\n",
    "grid = GridSearchCV(ridge_pipe, param_grid, cv=10)\n",
    "grid.fit(X_train, y_train)\n",
    "print(grid.best_params_)\n",
    "print(grid.best_score_)"
   ]
  },
  {
   "cell_type": "markdown",
   "metadata": {},
   "source": [
    "Our grid search seems to suggest that the best model will have an alpha of 1000 with unscaled data and 10 with scaled data. This appears to make sense because as the model's alpha approaches 0 the model begins to become increasingly similar to an OLS regression. So for data that is unscaled a larger alpha makes sense as it requires more of a smoothness constraint to find explanatory power. The scaled data can operate more like an OLS because the variation in the data has been standardized, thus making it simpler for the OLS to predict."
   ]
  },
  {
   "cell_type": "code",
   "execution_count": 92,
   "metadata": {},
   "outputs": [
    {
     "name": "stdout",
     "output_type": "stream",
     "text": [
      "Training R^2: 0.80\n",
      "Test set R^2: 0.81\n"
     ]
    }
   ],
   "source": [
    "ridge10 = Ridge(alpha=10).fit(X_train, y_train)\n",
    "print(\"Training R^2: {:.2f}\".format(ridge10.score(X_train, y_train)))\n",
    "print(\"Test set R^2: {:.2f}\".format(ridge10.score(X_test, y_test)))"
   ]
  },
  {
   "cell_type": "code",
   "execution_count": 91,
   "metadata": {},
   "outputs": [
    {
     "name": "stdout",
     "output_type": "stream",
     "text": [
      "Training R^2: 0.56\n",
      "Test set R^2: 0.52\n"
     ]
    }
   ],
   "source": [
    "ridge1000 = Ridge(alpha=1000).fit(X_train_scaled, y_train)\n",
    "print(\"Training R^2: {:.2f}\".format(ridge1000.score(X_train_scaled, y_train)))\n",
    "print(\"Test set R^2: {:.2f}\".format(ridge1000.score(X_test_scaled, y_test)))"
   ]
  },
  {
   "cell_type": "markdown",
   "metadata": {},
   "source": [
    "#### Lasso Regression GridSearch CV"
   ]
  },
  {
   "cell_type": "code",
   "execution_count": 93,
   "metadata": {},
   "outputs": [],
   "source": [
    "lasso_pipe = make_pipeline(Lasso())"
   ]
  },
  {
   "cell_type": "code",
   "execution_count": 94,
   "metadata": {},
   "outputs": [
    {
     "name": "stdout",
     "output_type": "stream",
     "text": [
      "{'lasso__alpha': 1}\n",
      "0.7823411438316094\n"
     ]
    }
   ],
   "source": [
    "param_grid = {'lasso__alpha': [0.01, 0.1, 1, 10, 100,1000,10000]}\n",
    "grid = GridSearchCV(lasso_pipe, param_grid, cv=10)\n",
    "grid.fit(X_train, y_train)\n",
    "print(grid.best_params_)\n",
    "print(grid.best_score_)"
   ]
  },
  {
   "cell_type": "code",
   "execution_count": 95,
   "metadata": {},
   "outputs": [],
   "source": [
    "lasso_pipe = make_pipeline(StandardScaler(), Lasso())"
   ]
  },
  {
   "cell_type": "code",
   "execution_count": 96,
   "metadata": {},
   "outputs": [
    {
     "name": "stdout",
     "output_type": "stream",
     "text": [
      "{'lasso__alpha': 0.1}\n",
      "0.806544494469053\n"
     ]
    }
   ],
   "source": [
    "param_grid = {'lasso__alpha': [0.01, 0.1, 1, 10, 100,1000,10000]}\n",
    "grid = GridSearchCV(lasso_pipe, param_grid, cv=10)\n",
    "grid.fit(X_train, y_train)\n",
    "print(grid.best_params_)\n",
    "print(grid.score(X_test, y_test))"
   ]
  },
  {
   "cell_type": "markdown",
   "metadata": {},
   "source": [
    "With regard to lasso, our grid search seems to suggest that the best model will have an alpha of 1 with unscaled data and 0.1 with scaled data. This appears to make sense because as the model's alpha approaches 0 the model begins to become increasingly similar to an OLS regression, but as alpha becomes to large coefficients will begin to 0 out. It is not surprising then that we see much lower alpha measures for lasso than for ridge while keeping a similar level of explanatory power."
   ]
  },
  {
   "cell_type": "code",
   "execution_count": 98,
   "metadata": {},
   "outputs": [
    {
     "name": "stdout",
     "output_type": "stream",
     "text": [
      "Training R^2: 0.80\n",
      "Test R^2: 0.81\n"
     ]
    }
   ],
   "source": [
    "lasso01 = Lasso(alpha=0.1).fit(X_train, y_train)\n",
    "print(\"Training R^2: {:.2f}\".format(lasso01.score(X_train, y_train)))\n",
    "print(\"Test R^2: {:.2f}\".format(lasso01.score(X_test, y_test)))"
   ]
  },
  {
   "cell_type": "code",
   "execution_count": 105,
   "metadata": {},
   "outputs": [
    {
     "name": "stdout",
     "output_type": "stream",
     "text": [
      "[ -0.          -0.          -0.         -10.6393318   -0.\n",
      "   0.           0.46691845  -0.19918508   3.34742122  -2.53863698]\n"
     ]
    }
   ],
   "source": [
    "int(lasso.score(X_test, y_test))\n",
    "print(lasso.coef_)\n"
   ]
  },
  {
   "cell_type": "markdown",
   "metadata": {},
   "source": [
    "One can see from the basic lasso coefficients that the previously mentioned zeroing out has occured. "
   ]
  },
  {
   "cell_type": "markdown",
   "metadata": {},
   "source": [
    "### 1.5 Compare the coefficients of your two best linear models (not knn), do they agree on which features are important?"
   ]
  },
  {
   "cell_type": "code",
   "execution_count": 103,
   "metadata": {
    "scrolled": true
   },
   "outputs": [
    {
     "name": "stdout",
     "output_type": "stream",
     "text": [
      "0.8088485493057405\n",
      "[ 1.18796341e-04 -6.54095365e-03 -1.03943211e-01 -3.64516588e-01\n",
      "  1.93892193e-03 -1.09733165e-01  1.88222319e-03 -3.30166182e-01\n",
      "  5.18872011e-01 -1.95405911e-01]\n"
     ]
    }
   ],
   "source": [
    "print(ridge10.score(X_test, y_test))\n",
    "print(ridge10.coef_)"
   ]
  },
  {
   "cell_type": "code",
   "execution_count": 104,
   "metadata": {},
   "outputs": [
    {
     "name": "stdout",
     "output_type": "stream",
     "text": [
      "0.8081674788950314\n",
      "[ 1.64271449e-04 -7.97874165e-03 -1.04839109e-01 -3.63865590e-01\n",
      "  2.15309332e-03 -1.36726004e+00  1.88904899e-03 -3.45970527e-01\n",
      "  5.20091618e-01 -1.96277441e-01]\n"
     ]
    }
   ],
   "source": [
    "print(lr.score(X_test, y_test))\n",
    "print(lr.coef_)"
   ]
  },
  {
   "cell_type": "markdown",
   "metadata": {},
   "source": [
    "The models provided above have similar explanatory power, suggesting that their best models will provide an R^2 value near .80 which suggests that 80% of the variation in our dependent variable can be explained by our independent variables. We also can see that while the magnitude of the coefficients has changed slight from one model to the next, the signs stay the same, this is good as the models don’t contradict the explanatory nature of the features within them. Realizing similar scores across different types of regressions is promising, as it suggests that the data does have the ability to explain the dependent variables variation in a variety of settings."
   ]
  },
  {
   "cell_type": "markdown",
   "metadata": {},
   "source": [
    "### 1.6 Discuss which final model you would choose to predict new data"
   ]
  },
  {
   "cell_type": "markdown",
   "metadata": {},
   "source": [
    "I would choose the ridge regression having gone through the analysis so far. The ridge regression leverages the L2 penalty which makes it more challenging to discover a signal by adding \"a value equal to the square of the magnitude of coefficients\" to the model. Ridge also allows a parsimonious model to be created despite the presence of multicollinarity, while this HW does not discuss multicollinarity, if I were doing research I would certainly consider a model that had strong explanatory power while also having mitigated the potential risk of finding multicollinarity.\n",
    "\n",
    "Sources:\n",
    "1. https://www.statisticshowto.datasciencecentral.com/ridge-regression/\n",
    "2. https://www.statisticshowto.datasciencecentral.com/regularization/\n"
   ]
  },
  {
   "cell_type": "markdown",
   "metadata": {},
   "source": [
    "### Question 2\n",
    "First, import the red and the white wine csv files into separate pandas dataframes from the following website:\n",
    "\n",
    "https://archive.ics.uci.edu/ml/machine-learning-databases/wine-quality\n",
    "\n",
    "(Note: you need to adjust the argument for read_csv() from sep=',' to sep=';')\n",
    "\n",
    "Add a new column to each data frame called \"winetype\".  For the white wine dataset label the values in this column with a 0, indicating white wine.  For the red wine dataset, label values with a 1, indicating red wine.  Combine both datasets into a single dataframe.\n",
    "\n",
    "The target data (i.e. the dependent variable) is \"winetype\"."
   ]
  },
  {
   "cell_type": "code",
   "execution_count": 3,
   "metadata": {},
   "outputs": [],
   "source": [
    "import pandas as pd"
   ]
  },
  {
   "cell_type": "code",
   "execution_count": 106,
   "metadata": {},
   "outputs": [],
   "source": [
    "red_wine = pd.read_csv(\"D:/QMSS/Spring/Machine Learning/winequality-red.csv\",sep=';')\n",
    "white_wine = pd.read_csv(\"D:/QMSS/Spring/Machine Learning/winequality-white.csv\",sep=';')"
   ]
  },
  {
   "cell_type": "code",
   "execution_count": 107,
   "metadata": {},
   "outputs": [
    {
     "data": {
      "text/html": [
       "<div>\n",
       "<style scoped>\n",
       "    .dataframe tbody tr th:only-of-type {\n",
       "        vertical-align: middle;\n",
       "    }\n",
       "\n",
       "    .dataframe tbody tr th {\n",
       "        vertical-align: top;\n",
       "    }\n",
       "\n",
       "    .dataframe thead th {\n",
       "        text-align: right;\n",
       "    }\n",
       "</style>\n",
       "<table border=\"1\" class=\"dataframe\">\n",
       "  <thead>\n",
       "    <tr style=\"text-align: right;\">\n",
       "      <th></th>\n",
       "      <th>fixed acidity</th>\n",
       "      <th>volatile acidity</th>\n",
       "      <th>citric acid</th>\n",
       "      <th>residual sugar</th>\n",
       "      <th>chlorides</th>\n",
       "      <th>free sulfur dioxide</th>\n",
       "      <th>total sulfur dioxide</th>\n",
       "      <th>density</th>\n",
       "      <th>pH</th>\n",
       "      <th>sulphates</th>\n",
       "      <th>alcohol</th>\n",
       "      <th>quality</th>\n",
       "      <th>winetype</th>\n",
       "    </tr>\n",
       "  </thead>\n",
       "  <tbody>\n",
       "    <tr>\n",
       "      <th>0</th>\n",
       "      <td>7.4</td>\n",
       "      <td>0.70</td>\n",
       "      <td>0.00</td>\n",
       "      <td>1.9</td>\n",
       "      <td>0.076</td>\n",
       "      <td>11.0</td>\n",
       "      <td>34.0</td>\n",
       "      <td>0.9978</td>\n",
       "      <td>3.51</td>\n",
       "      <td>0.56</td>\n",
       "      <td>9.4</td>\n",
       "      <td>5</td>\n",
       "      <td>1</td>\n",
       "    </tr>\n",
       "    <tr>\n",
       "      <th>1</th>\n",
       "      <td>7.8</td>\n",
       "      <td>0.88</td>\n",
       "      <td>0.00</td>\n",
       "      <td>2.6</td>\n",
       "      <td>0.098</td>\n",
       "      <td>25.0</td>\n",
       "      <td>67.0</td>\n",
       "      <td>0.9968</td>\n",
       "      <td>3.20</td>\n",
       "      <td>0.68</td>\n",
       "      <td>9.8</td>\n",
       "      <td>5</td>\n",
       "      <td>1</td>\n",
       "    </tr>\n",
       "    <tr>\n",
       "      <th>2</th>\n",
       "      <td>7.8</td>\n",
       "      <td>0.76</td>\n",
       "      <td>0.04</td>\n",
       "      <td>2.3</td>\n",
       "      <td>0.092</td>\n",
       "      <td>15.0</td>\n",
       "      <td>54.0</td>\n",
       "      <td>0.9970</td>\n",
       "      <td>3.26</td>\n",
       "      <td>0.65</td>\n",
       "      <td>9.8</td>\n",
       "      <td>5</td>\n",
       "      <td>1</td>\n",
       "    </tr>\n",
       "    <tr>\n",
       "      <th>3</th>\n",
       "      <td>11.2</td>\n",
       "      <td>0.28</td>\n",
       "      <td>0.56</td>\n",
       "      <td>1.9</td>\n",
       "      <td>0.075</td>\n",
       "      <td>17.0</td>\n",
       "      <td>60.0</td>\n",
       "      <td>0.9980</td>\n",
       "      <td>3.16</td>\n",
       "      <td>0.58</td>\n",
       "      <td>9.8</td>\n",
       "      <td>6</td>\n",
       "      <td>1</td>\n",
       "    </tr>\n",
       "    <tr>\n",
       "      <th>4</th>\n",
       "      <td>7.4</td>\n",
       "      <td>0.70</td>\n",
       "      <td>0.00</td>\n",
       "      <td>1.9</td>\n",
       "      <td>0.076</td>\n",
       "      <td>11.0</td>\n",
       "      <td>34.0</td>\n",
       "      <td>0.9978</td>\n",
       "      <td>3.51</td>\n",
       "      <td>0.56</td>\n",
       "      <td>9.4</td>\n",
       "      <td>5</td>\n",
       "      <td>1</td>\n",
       "    </tr>\n",
       "  </tbody>\n",
       "</table>\n",
       "</div>"
      ],
      "text/plain": [
       "   fixed acidity  volatile acidity  citric acid  residual sugar  chlorides  \\\n",
       "0            7.4              0.70         0.00             1.9      0.076   \n",
       "1            7.8              0.88         0.00             2.6      0.098   \n",
       "2            7.8              0.76         0.04             2.3      0.092   \n",
       "3           11.2              0.28         0.56             1.9      0.075   \n",
       "4            7.4              0.70         0.00             1.9      0.076   \n",
       "\n",
       "   free sulfur dioxide  total sulfur dioxide  density    pH  sulphates  \\\n",
       "0                 11.0                  34.0   0.9978  3.51       0.56   \n",
       "1                 25.0                  67.0   0.9968  3.20       0.68   \n",
       "2                 15.0                  54.0   0.9970  3.26       0.65   \n",
       "3                 17.0                  60.0   0.9980  3.16       0.58   \n",
       "4                 11.0                  34.0   0.9978  3.51       0.56   \n",
       "\n",
       "   alcohol  quality  winetype  \n",
       "0      9.4        5         1  \n",
       "1      9.8        5         1  \n",
       "2      9.8        5         1  \n",
       "3      9.8        6         1  \n",
       "4      9.4        5         1  "
      ]
     },
     "execution_count": 107,
     "metadata": {},
     "output_type": "execute_result"
    }
   ],
   "source": [
    "red_wine['winetype'] = 1\n",
    "white_wine['winetype'] = 0\n",
    "frames = [red_wine, white_wine]\n",
    "wines = pd.concat(frames)\n",
    "wines.head()"
   ]
  },
  {
   "cell_type": "markdown",
   "metadata": {},
   "source": [
    "### 2.1 Visualize the univariate distribution of the target feature and each of the three explanatory variables that you think are likely to have a relationship with the target feature.   "
   ]
  },
  {
   "cell_type": "code",
   "execution_count": 108,
   "metadata": {},
   "outputs": [
    {
     "data": {
      "text/plain": [
       "<matplotlib.axes._subplots.AxesSubplot at 0x1d9427479e8>"
      ]
     },
     "execution_count": 108,
     "metadata": {},
     "output_type": "execute_result"
    },
    {
     "data": {
      "image/png": "[encoded data removed]",
      "text/plain": [
       "<Figure size 432x288 with 1 Axes>"
      ]
     },
     "metadata": {
      "needs_background": "light"
     },
     "output_type": "display_data"
    }
   ],
   "source": [
    "#Univariate Distribution Wine Types \n",
    "wine_type = pd.DataFrame(wines, columns=[\"winetype\"])\n",
    "sns.distplot(wine_type)"
   ]
  },
  {
   "cell_type": "code",
   "execution_count": 109,
   "metadata": {},
   "outputs": [
    {
     "data": {
      "text/plain": [
       "<matplotlib.axes._subplots.AxesSubplot at 0x1d93f9cc1d0>"
      ]
     },
     "execution_count": 109,
     "metadata": {},
     "output_type": "execute_result"
    },
    {
     "data": {
      "image/png": "[encoded data removed]",
      "text/plain": [
       "<Figure size 432x288 with 1 Axes>"
      ]
     },
     "metadata": {
      "needs_background": "light"
     },
     "output_type": "display_data"
    }
   ],
   "source": [
    "#Univariate Distribution: Alcohol Content by Percentage \n",
    "alcohol = pd.DataFrame(wines, columns=[\"alcohol\"])\n",
    "sns.distplot(alcohol)"
   ]
  },
  {
   "cell_type": "code",
   "execution_count": 110,
   "metadata": {},
   "outputs": [
    {
     "data": {
      "text/plain": [
       "<matplotlib.axes._subplots.AxesSubplot at 0x1d942897f98>"
      ]
     },
     "execution_count": 110,
     "metadata": {},
     "output_type": "execute_result"
    },
    {
     "data": {
      "image/png": "[encoded data removed]",
      "text/plain": [
       "<Figure size 432x288 with 1 Axes>"
      ]
     },
     "metadata": {
      "needs_background": "light"
     },
     "output_type": "display_data"
    }
   ],
   "source": [
    "#Univariate Distribution: Sugar Content\n",
    "sugar = pd.DataFrame(wines, columns=[\"residual sugar\"])\n",
    "sns.distplot(sugar)"
   ]
  },
  {
   "cell_type": "code",
   "execution_count": 111,
   "metadata": {},
   "outputs": [
    {
     "data": {
      "text/plain": [
       "<matplotlib.axes._subplots.AxesSubplot at 0x1d94298ad30>"
      ]
     },
     "execution_count": 111,
     "metadata": {},
     "output_type": "execute_result"
    },
    {
     "data": {
      "image/png": "[encoded data removed]",
      "text/plain": [
       "<Figure size 432x288 with 1 Axes>"
      ]
     },
     "metadata": {
      "needs_background": "light"
     },
     "output_type": "display_data"
    }
   ],
   "source": [
    "#Univariate Distribution: Quality Rating \n",
    "quality = pd.DataFrame(wines, columns=[\"quality\"])\n",
    "sns.distplot(quality)"
   ]
  },
  {
   "cell_type": "markdown",
   "metadata": {},
   "source": [
    "### 2.2 Split data into training and test set. Build models that evaluate the relationship between all available X variables in the dataset and the target variable. Evaluate Logistic Regression, Penalized Logistic Regression, and KNN for classification using cross-validation. How different are the results? How does scaling the data with StandardScaler influence the results?"
   ]
  },
  {
   "cell_type": "code",
   "execution_count": 112,
   "metadata": {},
   "outputs": [],
   "source": [
    "y = wines['winetype']\n",
    "X = wines.loc[:, wines.columns!=\"winetype\"]\n"
   ]
  },
  {
   "cell_type": "code",
   "execution_count": 113,
   "metadata": {},
   "outputs": [],
   "source": [
    "X_train, X_test, y_train, y_test = train_test_split(X, y)\n"
   ]
  },
  {
   "cell_type": "code",
   "execution_count": 114,
   "metadata": {},
   "outputs": [],
   "source": [
    "#from sklearn import preprocessing\n",
    "scaler = preprocessing.StandardScaler().fit(X_train)\n",
    "X_train_scaled = scaler.transform(X_train)\n",
    "X_test_scaled = scaler.transform(X_test)"
   ]
  },
  {
   "cell_type": "markdown",
   "metadata": {},
   "source": [
    "#### KNN for Classification w/ Non-Scaled Data"
   ]
  },
  {
   "cell_type": "code",
   "execution_count": 115,
   "metadata": {},
   "outputs": [
    {
     "name": "stdout",
     "output_type": "stream",
     "text": [
      "accuracy: 0.94\n"
     ]
    }
   ],
   "source": [
    "from sklearn.neighbors import KNeighborsClassifier\n",
    "\n",
    "knn = KNeighborsClassifier(n_neighbors=5)\n",
    "knn.fit(X_train, y_train)\n",
    "\n",
    "print(\"accuracy: {:.2f}\".format(knn.score(X_test, y_test)))\n",
    "\n",
    "y_pred = knn.predict(X_test) # y_pred includes your predictions"
   ]
  },
  {
   "cell_type": "markdown",
   "metadata": {},
   "source": [
    "#### KNN for Classification w/ Scaled Data"
   ]
  },
  {
   "cell_type": "code",
   "execution_count": 116,
   "metadata": {},
   "outputs": [
    {
     "name": "stdout",
     "output_type": "stream",
     "text": [
      "accuracy: 0.99\n"
     ]
    }
   ],
   "source": [
    "knn = KNeighborsClassifier(n_neighbors=5)\n",
    "knn.fit(X_train_scaled, y_train)\n",
    "\n",
    "print(\"accuracy: {:.2f}\".format(knn.score(X_test_scaled, y_test)))\n",
    "\n",
    "y_pred = knn.predict(X_test_scaled) "
   ]
  },
  {
   "cell_type": "markdown",
   "metadata": {},
   "source": [
    " We see that for KNN Classification, scaling the data has made produced a model that has stronger predictive power, with classification accuracy increasing from 0.94 to 0.99."
   ]
  },
  {
   "cell_type": "markdown",
   "metadata": {},
   "source": [
    "#### Cross Validation for KNN Classification"
   ]
  },
  {
   "cell_type": "code",
   "execution_count": 118,
   "metadata": {},
   "outputs": [
    {
     "name": "stdout",
     "output_type": "stream",
     "text": [
      "KFold:\n",
      "0.9089049564753953\n",
      "StratifiedKFold:\n",
      "0.9435133419704602\n",
      "RepeatedKFold:\n",
      "0.942158429561201\n"
     ]
    }
   ],
   "source": [
    "print(\"KFold:\\n{}\".format(\n",
    "cross_val_score(KNeighborsClassifier(), X, y, cv=kfold).mean()))\n",
    "\n",
    "print(\"StratifiedKFold:\\n{}\".format(\n",
    "cross_val_score(KNeighborsClassifier(n_neighbors=5), X, y, cv=skfold).mean()))\n",
    "\n",
    "print(\"RepeatedKFold:\\n{}\".format(\n",
    "cross_val_score(KNeighborsClassifier(n_neighbors=5), X, y, cv=rkf).mean()))\n"
   ]
  },
  {
   "cell_type": "markdown",
   "metadata": {},
   "source": [
    " We see that when cross validating, using a variety of different approaches, we are still receiving measure that show strong classification abilities with all means being greater than 0.9."
   ]
  },
  {
   "cell_type": "markdown",
   "metadata": {},
   "source": [
    "### Logistic Regression "
   ]
  },
  {
   "cell_type": "code",
   "execution_count": 119,
   "metadata": {},
   "outputs": [],
   "source": [
    "from sklearn.linear_model import LogisticRegression\n"
   ]
  },
  {
   "cell_type": "markdown",
   "metadata": {},
   "source": [
    "#### Logistic Regression w/ Non-Scaled Data "
   ]
  },
  {
   "cell_type": "code",
   "execution_count": 120,
   "metadata": {},
   "outputs": [],
   "source": [
    "logreg = LogisticRegression(C=1e90).fit(X_train, y_train)"
   ]
  },
  {
   "cell_type": "code",
   "execution_count": 121,
   "metadata": {},
   "outputs": [
    {
     "data": {
      "text/html": [
       "<table class=\"simpletable\">\n",
       "<caption>Generalized Linear Model Regression Results</caption>\n",
       "<tr>\n",
       "  <th>Dep. Variable:</th>       <td>winetype</td>     <th>  No. Observations:  </th>  <td>  4872</td> \n",
       "</tr>\n",
       "<tr>\n",
       "  <th>Model:</th>                  <td>GLM</td>       <th>  Df Residuals:      </th>  <td>  4859</td> \n",
       "</tr>\n",
       "<tr>\n",
       "  <th>Model Family:</th>        <td>Binomial</td>     <th>  Df Model:          </th>  <td>    12</td> \n",
       "</tr>\n",
       "<tr>\n",
       "  <th>Link Function:</th>         <td>logit</td>      <th>  Scale:             </th> <td>  1.0000</td>\n",
       "</tr>\n",
       "<tr>\n",
       "  <th>Method:</th>                <td>IRLS</td>       <th>  Log-Likelihood:    </th> <td> -168.26</td>\n",
       "</tr>\n",
       "<tr>\n",
       "  <th>Date:</th>            <td>Mon, 02 Mar 2020</td> <th>  Deviance:          </th> <td>  336.53</td>\n",
       "</tr>\n",
       "<tr>\n",
       "  <th>Time:</th>                <td>13:03:59</td>     <th>  Pearson chi2:      </th> <td>1.16e+07</td>\n",
       "</tr>\n",
       "<tr>\n",
       "  <th>No. Iterations:</th>         <td>10</td>        <th>                     </th>     <td> </td>   \n",
       "</tr>\n",
       "<tr>\n",
       "  <th>Covariance Type:</th>     <td>nonrobust</td>    <th>                     </th>     <td> </td>   \n",
       "</tr>\n",
       "</table>\n",
       "<table class=\"simpletable\">\n",
       "<tr>\n",
       "            <td></td>              <th>coef</th>     <th>std err</th>      <th>z</th>      <th>P>|z|</th>  <th>[0.025</th>    <th>0.975]</th>  \n",
       "</tr>\n",
       "<tr>\n",
       "  <th>const</th>                <td>-1643.1565</td> <td>  205.302</td> <td>   -8.004</td> <td> 0.000</td> <td>-2045.540</td> <td>-1240.773</td>\n",
       "</tr>\n",
       "<tr>\n",
       "  <th>fixed acidity</th>        <td>   -0.0882</td> <td>    0.264</td> <td>   -0.334</td> <td> 0.739</td> <td>   -0.606</td> <td>    0.430</td>\n",
       "</tr>\n",
       "<tr>\n",
       "  <th>volatile acidity</th>     <td>    7.6527</td> <td>    1.254</td> <td>    6.103</td> <td> 0.000</td> <td>    5.195</td> <td>   10.110</td>\n",
       "</tr>\n",
       "<tr>\n",
       "  <th>citric acid</th>          <td>   -2.0395</td> <td>    1.281</td> <td>   -1.592</td> <td> 0.111</td> <td>   -4.551</td> <td>    0.472</td>\n",
       "</tr>\n",
       "<tr>\n",
       "  <th>residual sugar</th>       <td>   -0.9643</td> <td>    0.115</td> <td>   -8.416</td> <td> 0.000</td> <td>   -1.189</td> <td>   -0.740</td>\n",
       "</tr>\n",
       "<tr>\n",
       "  <th>chlorides</th>            <td>   21.0194</td> <td>    4.453</td> <td>    4.720</td> <td> 0.000</td> <td>   12.292</td> <td>   29.747</td>\n",
       "</tr>\n",
       "<tr>\n",
       "  <th>free sulfur dioxide</th>  <td>    0.0675</td> <td>    0.015</td> <td>    4.442</td> <td> 0.000</td> <td>    0.038</td> <td>    0.097</td>\n",
       "</tr>\n",
       "<tr>\n",
       "  <th>total sulfur dioxide</th> <td>   -0.0512</td> <td>    0.006</td> <td>   -9.183</td> <td> 0.000</td> <td>   -0.062</td> <td>   -0.040</td>\n",
       "</tr>\n",
       "<tr>\n",
       "  <th>density</th>              <td> 1636.5619</td> <td>  209.430</td> <td>    7.814</td> <td> 0.000</td> <td> 1226.086</td> <td> 2047.038</td>\n",
       "</tr>\n",
       "<tr>\n",
       "  <th>pH</th>                   <td>   -0.8112</td> <td>    1.597</td> <td>   -0.508</td> <td> 0.612</td> <td>   -3.942</td> <td>    2.319</td>\n",
       "</tr>\n",
       "<tr>\n",
       "  <th>sulphates</th>            <td>    3.1885</td> <td>    1.420</td> <td>    2.245</td> <td> 0.025</td> <td>    0.405</td> <td>    5.972</td>\n",
       "</tr>\n",
       "<tr>\n",
       "  <th>alcohol</th>              <td>    1.5839</td> <td>    0.306</td> <td>    5.177</td> <td> 0.000</td> <td>    0.984</td> <td>    2.184</td>\n",
       "</tr>\n",
       "<tr>\n",
       "  <th>quality</th>              <td>    0.3365</td> <td>    0.218</td> <td>    1.542</td> <td> 0.123</td> <td>   -0.091</td> <td>    0.764</td>\n",
       "</tr>\n",
       "</table>"
      ],
      "text/plain": [
       "<class 'statsmodels.iolib.summary.Summary'>\n",
       "\"\"\"\n",
       "                 Generalized Linear Model Regression Results                  \n",
       "==============================================================================\n",
       "Dep. Variable:               winetype   No. Observations:                 4872\n",
       "Model:                            GLM   Df Residuals:                     4859\n",
       "Model Family:                Binomial   Df Model:                           12\n",
       "Link Function:                  logit   Scale:                          1.0000\n",
       "Method:                          IRLS   Log-Likelihood:                -168.26\n",
       "Date:                Mon, 02 Mar 2020   Deviance:                       336.53\n",
       "Time:                        13:03:59   Pearson chi2:                 1.16e+07\n",
       "No. Iterations:                    10                                         \n",
       "Covariance Type:            nonrobust                                         \n",
       "========================================================================================\n",
       "                           coef    std err          z      P>|z|      [0.025      0.975]\n",
       "----------------------------------------------------------------------------------------\n",
       "const                -1643.1565    205.302     -8.004      0.000   -2045.540   -1240.773\n",
       "fixed acidity           -0.0882      0.264     -0.334      0.739      -0.606       0.430\n",
       "volatile acidity         7.6527      1.254      6.103      0.000       5.195      10.110\n",
       "citric acid             -2.0395      1.281     -1.592      0.111      -4.551       0.472\n",
       "residual sugar          -0.9643      0.115     -8.416      0.000      -1.189      -0.740\n",
       "chlorides               21.0194      4.453      4.720      0.000      12.292      29.747\n",
       "free sulfur dioxide      0.0675      0.015      4.442      0.000       0.038       0.097\n",
       "total sulfur dioxide    -0.0512      0.006     -9.183      0.000      -0.062      -0.040\n",
       "density               1636.5619    209.430      7.814      0.000    1226.086    2047.038\n",
       "pH                      -0.8112      1.597     -0.508      0.612      -3.942       2.319\n",
       "sulphates                3.1885      1.420      2.245      0.025       0.405       5.972\n",
       "alcohol                  1.5839      0.306      5.177      0.000       0.984       2.184\n",
       "quality                  0.3365      0.218      1.542      0.123      -0.091       0.764\n",
       "========================================================================================\n",
       "\"\"\""
      ]
     },
     "execution_count": 121,
     "metadata": {},
     "output_type": "execute_result"
    }
   ],
   "source": [
    "import statsmodels.api as sm\n",
    "\n",
    "X_train_new = sm.add_constant(X_train)  \n",
    "\n",
    "model = sm.GLM(y_train, X_train_new, family=sm.families.Binomial()).fit()\n",
    "\n",
    "model.summary()"
   ]
  },
  {
   "cell_type": "code",
   "execution_count": 129,
   "metadata": {},
   "outputs": [
    {
     "name": "stdout",
     "output_type": "stream",
     "text": [
      "Training Pseudo R^2: 0.989\n",
      "Test Pseudo R^2: 0.988\n"
     ]
    }
   ],
   "source": [
    "print(\"Training Pseudo R^2: {:.3f}\".format(logreg.score(X_train, y_train)))\n",
    "print(\"Test Pseudo R^2: {:.3f}\".format(logreg.score(X_test, y_test)))"
   ]
  },
  {
   "cell_type": "markdown",
   "metadata": {},
   "source": [
    "#### Logistic Regression w/ Scaled Data "
   ]
  },
  {
   "cell_type": "code",
   "execution_count": 125,
   "metadata": {},
   "outputs": [],
   "source": [
    "logregsc = LogisticRegression(C=1e90).fit(X_train_scaled, y_train)"
   ]
  },
  {
   "cell_type": "code",
   "execution_count": 126,
   "metadata": {},
   "outputs": [
    {
     "data": {
      "text/html": [
       "<table class=\"simpletable\">\n",
       "<caption>Generalized Linear Model Regression Results</caption>\n",
       "<tr>\n",
       "  <th>Dep. Variable:</th>       <td>winetype</td>     <th>  No. Observations:  </th>  <td>  4872</td> \n",
       "</tr>\n",
       "<tr>\n",
       "  <th>Model:</th>                  <td>GLM</td>       <th>  Df Residuals:      </th>  <td>  4859</td> \n",
       "</tr>\n",
       "<tr>\n",
       "  <th>Model Family:</th>        <td>Binomial</td>     <th>  Df Model:          </th>  <td>    12</td> \n",
       "</tr>\n",
       "<tr>\n",
       "  <th>Link Function:</th>         <td>logit</td>      <th>  Scale:             </th> <td>  1.0000</td>\n",
       "</tr>\n",
       "<tr>\n",
       "  <th>Method:</th>                <td>IRLS</td>       <th>  Log-Likelihood:    </th> <td> -168.26</td>\n",
       "</tr>\n",
       "<tr>\n",
       "  <th>Date:</th>            <td>Mon, 02 Mar 2020</td> <th>  Deviance:          </th> <td>  336.53</td>\n",
       "</tr>\n",
       "<tr>\n",
       "  <th>Time:</th>                <td>13:07:06</td>     <th>  Pearson chi2:      </th> <td>1.16e+07</td>\n",
       "</tr>\n",
       "<tr>\n",
       "  <th>No. Iterations:</th>         <td>10</td>        <th>                     </th>     <td> </td>   \n",
       "</tr>\n",
       "<tr>\n",
       "  <th>Covariance Type:</th>     <td>nonrobust</td>    <th>                     </th>     <td> </td>   \n",
       "</tr>\n",
       "</table>\n",
       "<table class=\"simpletable\">\n",
       "<tr>\n",
       "    <td></td>       <th>coef</th>     <th>std err</th>      <th>z</th>      <th>P>|z|</th>  <th>[0.025</th>    <th>0.975]</th>  \n",
       "</tr>\n",
       "<tr>\n",
       "  <th>const</th> <td>   -4.2940</td> <td>    0.332</td> <td>  -12.921</td> <td> 0.000</td> <td>   -4.945</td> <td>   -3.643</td>\n",
       "</tr>\n",
       "<tr>\n",
       "  <th>x1</th>    <td>   -0.1133</td> <td>    0.340</td> <td>   -0.334</td> <td> 0.739</td> <td>   -0.779</td> <td>    0.552</td>\n",
       "</tr>\n",
       "<tr>\n",
       "  <th>x2</th>    <td>    1.2588</td> <td>    0.206</td> <td>    6.103</td> <td> 0.000</td> <td>    0.855</td> <td>    1.663</td>\n",
       "</tr>\n",
       "<tr>\n",
       "  <th>x3</th>    <td>   -0.2957</td> <td>    0.186</td> <td>   -1.592</td> <td> 0.111</td> <td>   -0.660</td> <td>    0.068</td>\n",
       "</tr>\n",
       "<tr>\n",
       "  <th>x4</th>    <td>   -4.6024</td> <td>    0.547</td> <td>   -8.416</td> <td> 0.000</td> <td>   -5.674</td> <td>   -3.531</td>\n",
       "</tr>\n",
       "<tr>\n",
       "  <th>x5</th>    <td>    0.7126</td> <td>    0.151</td> <td>    4.720</td> <td> 0.000</td> <td>    0.417</td> <td>    1.009</td>\n",
       "</tr>\n",
       "<tr>\n",
       "  <th>x6</th>    <td>    1.2129</td> <td>    0.273</td> <td>    4.442</td> <td> 0.000</td> <td>    0.678</td> <td>    1.748</td>\n",
       "</tr>\n",
       "<tr>\n",
       "  <th>x7</th>    <td>   -2.8843</td> <td>    0.314</td> <td>   -9.183</td> <td> 0.000</td> <td>   -3.500</td> <td>   -2.269</td>\n",
       "</tr>\n",
       "<tr>\n",
       "  <th>x8</th>    <td>    4.9373</td> <td>    0.632</td> <td>    7.814</td> <td> 0.000</td> <td>    3.699</td> <td>    6.176</td>\n",
       "</tr>\n",
       "<tr>\n",
       "  <th>x9</th>    <td>   -0.1304</td> <td>    0.257</td> <td>   -0.508</td> <td> 0.612</td> <td>   -0.634</td> <td>    0.373</td>\n",
       "</tr>\n",
       "<tr>\n",
       "  <th>x10</th>   <td>    0.4657</td> <td>    0.207</td> <td>    2.245</td> <td> 0.025</td> <td>    0.059</td> <td>    0.872</td>\n",
       "</tr>\n",
       "<tr>\n",
       "  <th>x11</th>   <td>    1.8882</td> <td>    0.365</td> <td>    5.177</td> <td> 0.000</td> <td>    1.173</td> <td>    2.603</td>\n",
       "</tr>\n",
       "<tr>\n",
       "  <th>x12</th>   <td>    0.2923</td> <td>    0.190</td> <td>    1.542</td> <td> 0.123</td> <td>   -0.079</td> <td>    0.664</td>\n",
       "</tr>\n",
       "</table>"
      ],
      "text/plain": [
       "<class 'statsmodels.iolib.summary.Summary'>\n",
       "\"\"\"\n",
       "                 Generalized Linear Model Regression Results                  \n",
       "==============================================================================\n",
       "Dep. Variable:               winetype   No. Observations:                 4872\n",
       "Model:                            GLM   Df Residuals:                     4859\n",
       "Model Family:                Binomial   Df Model:                           12\n",
       "Link Function:                  logit   Scale:                          1.0000\n",
       "Method:                          IRLS   Log-Likelihood:                -168.26\n",
       "Date:                Mon, 02 Mar 2020   Deviance:                       336.53\n",
       "Time:                        13:07:06   Pearson chi2:                 1.16e+07\n",
       "No. Iterations:                    10                                         \n",
       "Covariance Type:            nonrobust                                         \n",
       "==============================================================================\n",
       "                 coef    std err          z      P>|z|      [0.025      0.975]\n",
       "------------------------------------------------------------------------------\n",
       "const         -4.2940      0.332    -12.921      0.000      -4.945      -3.643\n",
       "x1            -0.1133      0.340     -0.334      0.739      -0.779       0.552\n",
       "x2             1.2588      0.206      6.103      0.000       0.855       1.663\n",
       "x3            -0.2957      0.186     -1.592      0.111      -0.660       0.068\n",
       "x4            -4.6024      0.547     -8.416      0.000      -5.674      -3.531\n",
       "x5             0.7126      0.151      4.720      0.000       0.417       1.009\n",
       "x6             1.2129      0.273      4.442      0.000       0.678       1.748\n",
       "x7            -2.8843      0.314     -9.183      0.000      -3.500      -2.269\n",
       "x8             4.9373      0.632      7.814      0.000       3.699       6.176\n",
       "x9            -0.1304      0.257     -0.508      0.612      -0.634       0.373\n",
       "x10            0.4657      0.207      2.245      0.025       0.059       0.872\n",
       "x11            1.8882      0.365      5.177      0.000       1.173       2.603\n",
       "x12            0.2923      0.190      1.542      0.123      -0.079       0.664\n",
       "==============================================================================\n",
       "\"\"\""
      ]
     },
     "execution_count": 126,
     "metadata": {},
     "output_type": "execute_result"
    }
   ],
   "source": [
    "X_train_new = sm.add_constant(X_train_scaled) #adding a column of 1s to the matrix \n",
    "\n",
    "model = sm.GLM(y_train, X_train_new, family=sm.families.Binomial()).fit()\n",
    "\n",
    "model.summary()"
   ]
  },
  {
   "cell_type": "code",
   "execution_count": 128,
   "metadata": {},
   "outputs": [
    {
     "name": "stdout",
     "output_type": "stream",
     "text": [
      "Training Pseudo R^2: 0.994\n",
      "Test Pseudo R^2: 0.995\n"
     ]
    }
   ],
   "source": [
    "print(\"Training Pseudo R^2: {:.3f}\".format(logregsc.score(X_train_scaled, y_train)))\n",
    "print(\"Test Pseudo R^2: {:.3f}\".format(logregsc.score(X_test_scaled, y_test)))"
   ]
  },
  {
   "cell_type": "markdown",
   "metadata": {},
   "source": [
    " We can see that for logistic regression scaling the data has produced a model that has slightly increased explanatory power, with the independent variables being able to explain 99% of the variation in y. Our previous model could explain just under 99%.  "
   ]
  },
  {
   "cell_type": "markdown",
   "metadata": {},
   "source": [
    "#### Logistic Regression Cross Validation"
   ]
  },
  {
   "cell_type": "code",
   "execution_count": 130,
   "metadata": {},
   "outputs": [
    {
     "name": "stdout",
     "output_type": "stream",
     "text": [
      "KFold:\n",
      "0.981072777876473\n",
      "StratifiedKFold:\n",
      "0.9881478036322833\n",
      "RepeatedKFold:\n",
      "0.9883638064783561\n"
     ]
    }
   ],
   "source": [
    "print(\"KFold:\\n{}\".format(\n",
    "cross_val_score(LogisticRegression(C=1e90), X, y, cv=kfold).mean()))\n",
    "\n",
    "print(\"StratifiedKFold:\\n{}\".format(\n",
    "cross_val_score(LogisticRegression(C=1e90), X, y, cv=skfold).mean()))\n",
    "\n",
    "print(\"RepeatedKFold:\\n{}\".format(\n",
    "cross_val_score(LogisticRegression(C=1e90), X, y, cv=rkf).mean()))\n"
   ]
  },
  {
   "cell_type": "markdown",
   "metadata": {},
   "source": [
    " We see that when cross validating, using a variety of different approaches, we are still receiving measure that show strong predicative abilities with all means being greater than 0.98."
   ]
  },
  {
   "cell_type": "markdown",
   "metadata": {},
   "source": [
    "### Penalized Logistic Regression"
   ]
  },
  {
   "cell_type": "markdown",
   "metadata": {},
   "source": [
    "#### Penalized Logistic Regression w/ Non-Scaled Data"
   ]
  },
  {
   "cell_type": "code",
   "execution_count": 131,
   "metadata": {},
   "outputs": [],
   "source": [
    "lgr1 = LogisticRegression(C=1e90, penalty = 'l1').fit(X_train, y_train)"
   ]
  },
  {
   "cell_type": "code",
   "execution_count": 132,
   "metadata": {},
   "outputs": [
    {
     "name": "stdout",
     "output_type": "stream",
     "text": [
      "Training Pseudo R^2: 0.989\n",
      "Test Pseudo R^2: 0.985\n"
     ]
    }
   ],
   "source": [
    "print(\"Training Pseudo R^2: {:.3f}\".format(lgr1.score(X_train, y_train)))\n",
    "print(\"Test Pseudo R^2: {:.3f}\".format(lgr1.score(X_test, y_test)))"
   ]
  },
  {
   "cell_type": "code",
   "execution_count": 150,
   "metadata": {},
   "outputs": [],
   "source": [
    "lgr2 = LogisticRegression(C=1e90, penalty = 'l2').fit(X_train, y_train)"
   ]
  },
  {
   "cell_type": "code",
   "execution_count": 151,
   "metadata": {},
   "outputs": [
    {
     "name": "stdout",
     "output_type": "stream",
     "text": [
      "Training Pseudo R^2: 0.989\n",
      "Test Pseudo R^2: 0.988\n"
     ]
    }
   ],
   "source": [
    "print(\"Training Pseudo R^2: {:.3f}\".format(lgr2.score(X_train, y_train)))\n",
    "print(\"Test Pseudo R^2: {:.3f}\".format(lgr2.score(X_test, y_test)))"
   ]
  },
  {
   "cell_type": "markdown",
   "metadata": {},
   "source": [
    "#### Penalized Logistic Regression w/ Scaled Data"
   ]
  },
  {
   "cell_type": "code",
   "execution_count": 152,
   "metadata": {},
   "outputs": [],
   "source": [
    "lgr1 = LogisticRegression(C=1e90, penalty = 'l1').fit(X_train_scaled, y_train)"
   ]
  },
  {
   "cell_type": "code",
   "execution_count": 153,
   "metadata": {},
   "outputs": [
    {
     "name": "stdout",
     "output_type": "stream",
     "text": [
      "Training Pseudo R^2: 0.994\n",
      "Test Pseudo R^2: 0.995\n"
     ]
    }
   ],
   "source": [
    "print(\"Training Pseudo R^2: {:.3f}\".format(lgr1.score(X_train_scaled, y_train)))\n",
    "print(\"Test Pseudo R^2: {:.3f}\".format(lgr1.score(X_test_scaled, y_test)))"
   ]
  },
  {
   "cell_type": "code",
   "execution_count": 155,
   "metadata": {},
   "outputs": [],
   "source": [
    "lgr2 = LogisticRegression(C=1e90, penalty = 'l2').fit(X_train_scaled, y_train)"
   ]
  },
  {
   "cell_type": "code",
   "execution_count": 156,
   "metadata": {},
   "outputs": [
    {
     "name": "stdout",
     "output_type": "stream",
     "text": [
      "Training Pseudo R^2: 0.994\n",
      "Test Pseudo R^2: 0.995\n"
     ]
    }
   ],
   "source": [
    "print(\"Training Pseudo R^2: {:.3f}\".format(lgr2.score(X_train_scaled, y_train)))\n",
    "print(\"Test Pseudo R^2: {:.3f}\".format(lgr2.score(X_test_scaled, y_test)))"
   ]
  },
  {
   "cell_type": "markdown",
   "metadata": {},
   "source": [
    "We can see that for penalized logistic regression scaling the data has produced a model that has slightly increased explanatory power, with the independent variables being able to explain 99% of the variation in y. Our previous model could explain just under 99%.  "
   ]
  },
  {
   "cell_type": "markdown",
   "metadata": {},
   "source": [
    "#### Penalized Logistic Regression Cross Validation (l1 Penalty)"
   ]
  },
  {
   "cell_type": "code",
   "execution_count": 139,
   "metadata": {},
   "outputs": [
    {
     "name": "stdout",
     "output_type": "stream",
     "text": [
      "KFold:\n",
      "0.9807650855687807\n",
      "StratifiedKFold:\n",
      "0.9870704062707037\n",
      "RepeatedKFold:\n",
      "0.9879790963463019\n"
     ]
    }
   ],
   "source": [
    "print(\"KFold:\\n{}\".format(\n",
    "cross_val_score(LogisticRegression(C=1e90,penalty=\"l1\"), X, y, cv=kfold).mean()))\n",
    "\n",
    "print(\"StratifiedKFold:\\n{}\".format(\n",
    "cross_val_score(LogisticRegression(C=1e90,penalty=\"l1\"), X, y, cv=skfold).mean()))\n",
    "\n",
    "print(\"RepeatedKFold:\\n{}\".format(\n",
    "cross_val_score(LogisticRegression(C=1e90,penalty=\"l1\"), X, y, cv=rkf).mean()))\n"
   ]
  },
  {
   "cell_type": "markdown",
   "metadata": {},
   "source": [
    "#### Penalized Logistic Regression Cross Validation (l2 Penalty)"
   ]
  },
  {
   "cell_type": "code",
   "execution_count": 140,
   "metadata": {},
   "outputs": [
    {
     "name": "stdout",
     "output_type": "stream",
     "text": [
      "KFold:\n",
      "0.981072777876473\n",
      "StratifiedKFold:\n",
      "0.9878404657150497\n",
      "RepeatedKFold:\n",
      "0.9882564576301297\n"
     ]
    }
   ],
   "source": [
    "print(\"KFold:\\n{}\".format(\n",
    "cross_val_score(LogisticRegression(C=1e90,penalty=\"l2\"), X, y, cv=kfold).mean()))\n",
    "\n",
    "print(\"StratifiedKFold:\\n{}\".format(\n",
    "cross_val_score(LogisticRegression(C=1e90,penalty=\"l2\"), X, y, cv=skfold).mean()))\n",
    "\n",
    "print(\"RepeatedKFold:\\n{}\".format(\n",
    "cross_val_score(LogisticRegression(C=1e90,penalty=\"l2\"), X, y, cv=rkf).mean()))\n"
   ]
  },
  {
   "cell_type": "markdown",
   "metadata": {},
   "source": [
    " We see that when accounting for penalty, cross validating, using a variety of different approaches, we are still receiving measure that show strong predicative abilities with all means being greater than 0.98."
   ]
  },
  {
   "cell_type": "markdown",
   "metadata": {},
   "source": [
    "### 2.3 Tune the parameters where possible using GridSearchCV. Do the results improve?"
   ]
  },
  {
   "cell_type": "markdown",
   "metadata": {},
   "source": [
    "#### Logistic Regression w/ GridSearch CV "
   ]
  },
  {
   "cell_type": "code",
   "execution_count": 178,
   "metadata": {},
   "outputs": [],
   "source": [
    "lgr = LogisticRegression()\n",
    "\n",
    "penalty = ['l1', 'l2']\n",
    "\n",
    "\n",
    "C = np.logspace(0, 4, 10)\n",
    "\n",
    "\n",
    "hyperparameters = dict(C=C, penalty=penalty)"
   ]
  },
  {
   "cell_type": "markdown",
   "metadata": {},
   "source": [
    "#### Logistic Regression w/ GridSearch CV Non-Scaled Data "
   ]
  },
  {
   "cell_type": "code",
   "execution_count": 142,
   "metadata": {},
   "outputs": [],
   "source": [
    "#grid = GridSearchCV(lgr, param_grid, cv=10, scoring = 'accuracy', )\n",
    "grid = GridSearchCV(lgr, param_grid=hyperparameters, cv=10)\n",
    "grid_sc = GridSearchCV(lgr, param_grid=hyperparameters, cv=10)"
   ]
  },
  {
   "cell_type": "code",
   "execution_count": null,
   "metadata": {},
   "outputs": [],
   "source": []
  },
  {
   "cell_type": "code",
   "execution_count": 143,
   "metadata": {},
   "outputs": [
    {
     "data": {
      "text/plain": [
       "GridSearchCV(cv=10, error_score='raise-deprecating',\n",
       "             estimator=LogisticRegression(C=1.0, class_weight=None, dual=False,\n",
       "                                          fit_intercept=True,\n",
       "                                          intercept_scaling=1, l1_ratio=None,\n",
       "                                          max_iter=100, multi_class='warn',\n",
       "                                          n_jobs=None, penalty='l2',\n",
       "                                          random_state=None, solver='warn',\n",
       "                                          tol=0.0001, verbose=0,\n",
       "                                          warm_start=False),\n",
       "             iid='warn', n_jobs=None,\n",
       "             param_grid={'C': array([1.00000000e+00, 2.78255940e+00, 7.74263683e+00, 2.15443469e+01,\n",
       "       5.99484250e+01, 1.66810054e+02, 4.64158883e+02, 1.29154967e+03,\n",
       "       3.59381366e+03, 1.00000000e+04]),\n",
       "                         'penalty': ['l1', 'l2']},\n",
       "             pre_dispatch='2*n_jobs', refit=True, return_train_score=False,\n",
       "             scoring=None, verbose=0)"
      ]
     },
     "execution_count": 143,
     "metadata": {},
     "output_type": "execute_result"
    }
   ],
   "source": [
    "grid.fit(X_train, y_train)\n"
   ]
  },
  {
   "cell_type": "code",
   "execution_count": 144,
   "metadata": {},
   "outputs": [
    {
     "name": "stdout",
     "output_type": "stream",
     "text": [
      "test-set score: 0.986\n",
      "Best Penalty: l2\n",
      "Best C: 59.94842503189409\n"
     ]
    }
   ],
   "source": [
    "print(\"Pseudo R^2: {:.3f}\".format(grid.score(X_test, y_test)))\n",
    "print('Best Penalty:', grid.best_estimator_.get_params()['penalty'])\n",
    "print('Best C:', grid.best_estimator_.get_params()['C'])"
   ]
  },
  {
   "cell_type": "code",
   "execution_count": 145,
   "metadata": {},
   "outputs": [
    {
     "name": "stdout",
     "output_type": "stream",
     "text": [
      "KFold:\n",
      "0.974611120980636\n",
      "StratifiedKFold:\n",
      "0.9879953786900199\n",
      "RepeatedKFold:\n",
      "0.9878561141706639\n"
     ]
    }
   ],
   "source": [
    "print(\"KFold:\\n{}\".format(\n",
    "cross_val_score(LogisticRegression(C=59.94842503189409,penalty=\"l2\"), X, y, cv=kfold).mean()))\n",
    "\n",
    "print(\"StratifiedKFold:\\n{}\".format(\n",
    "cross_val_score(LogisticRegression(C=59.94842503189409,penalty=\"l2\"), X, y, cv=skfold).mean()))\n",
    "\n",
    "print(\"RepeatedKFold:\\n{}\".format(\n",
    "cross_val_score(LogisticRegression(C=59.94842503189409,penalty=\"l2\"), X, y, cv=rkf).mean()))\n",
    "\n"
   ]
  },
  {
   "cell_type": "markdown",
   "metadata": {},
   "source": [
    "#### Logistic Regression w/ GridSearch CV w/ Scaled Data "
   ]
  },
  {
   "cell_type": "code",
   "execution_count": 146,
   "metadata": {},
   "outputs": [
    {
     "data": {
      "text/plain": [
       "GridSearchCV(cv=10, error_score='raise-deprecating',\n",
       "             estimator=LogisticRegression(C=1.0, class_weight=None, dual=False,\n",
       "                                          fit_intercept=True,\n",
       "                                          intercept_scaling=1, l1_ratio=None,\n",
       "                                          max_iter=100, multi_class='warn',\n",
       "                                          n_jobs=None, penalty='l2',\n",
       "                                          random_state=None, solver='warn',\n",
       "                                          tol=0.0001, verbose=0,\n",
       "                                          warm_start=False),\n",
       "             iid='warn', n_jobs=None,\n",
       "             param_grid={'C': array([1.00000000e+00, 2.78255940e+00, 7.74263683e+00, 2.15443469e+01,\n",
       "       5.99484250e+01, 1.66810054e+02, 4.64158883e+02, 1.29154967e+03,\n",
       "       3.59381366e+03, 1.00000000e+04]),\n",
       "                         'penalty': ['l1', 'l2']},\n",
       "             pre_dispatch='2*n_jobs', refit=True, return_train_score=False,\n",
       "             scoring=None, verbose=0)"
      ]
     },
     "execution_count": 146,
     "metadata": {},
     "output_type": "execute_result"
    }
   ],
   "source": [
    "grid_sc.fit(X_train_scaled, y_train)"
   ]
  },
  {
   "cell_type": "code",
   "execution_count": 157,
   "metadata": {},
   "outputs": [
    {
     "name": "stdout",
     "output_type": "stream",
     "text": [
      "Pseudo R^2: 0.995\n",
      "Best Penalty: l1\n",
      "Best C: 7.742636826811269\n"
     ]
    }
   ],
   "source": [
    "print(\"Pseudo R^2: {:.3f}\".format(grid_sc.score(X_test_scaled, y_test)))\n",
    "print('Best Penalty:', grid_sc.best_estimator_.get_params()['penalty'])\n",
    "print('Best C:', grid_sc.best_estimator_.get_params()['C'])"
   ]
  },
  {
   "cell_type": "code",
   "execution_count": 158,
   "metadata": {},
   "outputs": [
    {
     "name": "stdout",
     "output_type": "stream",
     "text": [
      "KFold:\n",
      "0.9792262687274235\n",
      "StratifiedKFold:\n",
      "0.9878401105946415\n",
      "RepeatedKFold:\n",
      "0.9878560904838042\n"
     ]
    }
   ],
   "source": [
    "print(\"KFold:\\n{}\".format(\n",
    "cross_val_score(LogisticRegression(C=7.742636826811269,penalty=\"l1\"), X, y, cv=kfold).mean()))\n",
    "\n",
    "print(\"StratifiedKFold:\\n{}\".format(\n",
    "cross_val_score(LogisticRegression(C=7.742636826811269,penalty=\"l1\"), X, y, cv=skfold).mean()))\n",
    "\n",
    "print(\"RepeatedKFold:\\n{}\".format(\n",
    "cross_val_score(LogisticRegression(C=7.742636826811269,penalty=\"l1\"), X, y, cv=rkf).mean()))\n",
    "\n"
   ]
  },
  {
   "cell_type": "markdown",
   "metadata": {},
   "source": [
    " Having performed GridSearch with respect to both penalty type and C value we were able to discover the best approach for logistic regressions with both scaled and not scaled data. The models we discovered, whose ability to predict, can be measured using the pseudo R^2 term predict similarly to previous models but has shown a slight improvement"
   ]
  },
  {
   "cell_type": "markdown",
   "metadata": {},
   "source": [
    "### 2.4 Change the cross-validation strategy in GridSearchCV from ‘stratified k-fold’ to ‘kfold’ with shuffling. Do the parameters for models that can be tuned change? Do they change if you change the random seed of the shuffling? Or if you change the random state of the split into training and test data?\n",
    "\n"
   ]
  },
  {
   "cell_type": "markdown",
   "metadata": {},
   "source": [
    "#### KFold w/ Shuffle False "
   ]
  },
  {
   "cell_type": "code",
   "execution_count": 159,
   "metadata": {},
   "outputs": [],
   "source": [
    "grid = GridSearchCV(lgr, param_grid=hyperparameters, cv=KFold(shuffle=False, random_state=124238920380932))\n",
    "grid_sc = GridSearchCV(lgr, param_grid=hyperparameters, cv=KFold(shuffle=False, random_state=124238920380932))"
   ]
  },
  {
   "cell_type": "code",
   "execution_count": 160,
   "metadata": {},
   "outputs": [
    {
     "data": {
      "text/plain": [
       "GridSearchCV(cv=KFold(n_splits=3, random_state=124238920380932, shuffle=False),\n",
       "             error_score='raise-deprecating',\n",
       "             estimator=LogisticRegression(C=1.0, class_weight=None, dual=False,\n",
       "                                          fit_intercept=True,\n",
       "                                          intercept_scaling=1, l1_ratio=None,\n",
       "                                          max_iter=100, multi_class='warn',\n",
       "                                          n_jobs=None, penalty='l2',\n",
       "                                          random_state=None, solver='warn',\n",
       "                                          tol=0.0001, verbose=0,\n",
       "                                          warm_start=False),\n",
       "             iid='warn', n_jobs=None,\n",
       "             param_grid={'C': array([1.00000000e+00, 2.78255940e+00, 7.74263683e+00, 2.15443469e+01,\n",
       "       5.99484250e+01, 1.66810054e+02, 4.64158883e+02, 1.29154967e+03,\n",
       "       3.59381366e+03, 1.00000000e+04]),\n",
       "                         'penalty': ['l1', 'l2']},\n",
       "             pre_dispatch='2*n_jobs', refit=True, return_train_score=False,\n",
       "             scoring=None, verbose=0)"
      ]
     },
     "execution_count": 160,
     "metadata": {},
     "output_type": "execute_result"
    }
   ],
   "source": [
    "grid.fit(X_train, y_train)\n"
   ]
  },
  {
   "cell_type": "code",
   "execution_count": 161,
   "metadata": {},
   "outputs": [
    {
     "name": "stdout",
     "output_type": "stream",
     "text": [
      "Pseudo R^2: 0.988\n",
      "Best Penalty: l1\n",
      "Best C: 166.81005372000593\n"
     ]
    }
   ],
   "source": [
    "print(\"Pseudo R^2: {:.3f}\".format(grid.score(X_test, y_test)))\n",
    "print('Best Penalty:', grid.best_estimator_.get_params()['penalty'])\n",
    "print('Best C:', grid.best_estimator_.get_params()['C'])"
   ]
  },
  {
   "cell_type": "code",
   "execution_count": 162,
   "metadata": {},
   "outputs": [
    {
     "data": {
      "text/plain": [
       "GridSearchCV(cv=KFold(n_splits=3, random_state=124238920380932, shuffle=False),\n",
       "             error_score='raise-deprecating',\n",
       "             estimator=LogisticRegression(C=1.0, class_weight=None, dual=False,\n",
       "                                          fit_intercept=True,\n",
       "                                          intercept_scaling=1, l1_ratio=None,\n",
       "                                          max_iter=100, multi_class='warn',\n",
       "                                          n_jobs=None, penalty='l2',\n",
       "                                          random_state=None, solver='warn',\n",
       "                                          tol=0.0001, verbose=0,\n",
       "                                          warm_start=False),\n",
       "             iid='warn', n_jobs=None,\n",
       "             param_grid={'C': array([1.00000000e+00, 2.78255940e+00, 7.74263683e+00, 2.15443469e+01,\n",
       "       5.99484250e+01, 1.66810054e+02, 4.64158883e+02, 1.29154967e+03,\n",
       "       3.59381366e+03, 1.00000000e+04]),\n",
       "                         'penalty': ['l1', 'l2']},\n",
       "             pre_dispatch='2*n_jobs', refit=True, return_train_score=False,\n",
       "             scoring=None, verbose=0)"
      ]
     },
     "execution_count": 162,
     "metadata": {},
     "output_type": "execute_result"
    }
   ],
   "source": [
    "grid_sc.fit(X_train_scaled, y_train)"
   ]
  },
  {
   "cell_type": "code",
   "execution_count": 163,
   "metadata": {},
   "outputs": [
    {
     "name": "stdout",
     "output_type": "stream",
     "text": [
      "Pseudo R^2: 0.994\n",
      "Best Penalty: l1\n",
      "Best C: 2.7825594022071245\n"
     ]
    }
   ],
   "source": [
    "print(\"Pseudo R^2: {:.3f}\".format(grid_sc.score(X_test_scaled, y_test)))\n",
    "print('Best Penalty:', grid_sc.best_estimator_.get_params()['penalty'])\n",
    "print('Best C:', grid_sc.best_estimator_.get_params()['C'])\n",
    "\n"
   ]
  },
  {
   "cell_type": "markdown",
   "metadata": {},
   "source": [
    "#### KFold w/ Shuffle True "
   ]
  },
  {
   "cell_type": "code",
   "execution_count": 164,
   "metadata": {},
   "outputs": [],
   "source": [
    "grid = GridSearchCV(lgr, param_grid=hyperparameters, cv=KFold(shuffle=True, random_state=1242389203))\n",
    "grid_sc = GridSearchCV(lgr, param_grid=hyperparameters, cv=KFold(shuffle=True, random_state=1242389203))"
   ]
  },
  {
   "cell_type": "code",
   "execution_count": 165,
   "metadata": {},
   "outputs": [
    {
     "data": {
      "text/plain": [
       "GridSearchCV(cv=KFold(n_splits=3, random_state=1242389203, shuffle=True),\n",
       "             error_score='raise-deprecating',\n",
       "             estimator=LogisticRegression(C=1.0, class_weight=None, dual=False,\n",
       "                                          fit_intercept=True,\n",
       "                                          intercept_scaling=1, l1_ratio=None,\n",
       "                                          max_iter=100, multi_class='warn',\n",
       "                                          n_jobs=None, penalty='l2',\n",
       "                                          random_state=None, solver='warn',\n",
       "                                          tol=0.0001, verbose=0,\n",
       "                                          warm_start=False),\n",
       "             iid='warn', n_jobs=None,\n",
       "             param_grid={'C': array([1.00000000e+00, 2.78255940e+00, 7.74263683e+00, 2.15443469e+01,\n",
       "       5.99484250e+01, 1.66810054e+02, 4.64158883e+02, 1.29154967e+03,\n",
       "       3.59381366e+03, 1.00000000e+04]),\n",
       "                         'penalty': ['l1', 'l2']},\n",
       "             pre_dispatch='2*n_jobs', refit=True, return_train_score=False,\n",
       "             scoring=None, verbose=0)"
      ]
     },
     "execution_count": 165,
     "metadata": {},
     "output_type": "execute_result"
    }
   ],
   "source": [
    "grid.fit(X_train, y_train)"
   ]
  },
  {
   "cell_type": "code",
   "execution_count": 166,
   "metadata": {},
   "outputs": [
    {
     "name": "stdout",
     "output_type": "stream",
     "text": [
      "Pseudo R^2: 0.987\n",
      "Best Penalty: l2\n",
      "Best C: 1291.5496650148827\n"
     ]
    }
   ],
   "source": [
    "print(\"Pseudo R^2: {:.3f}\".format(grid.score(X_test, y_test)))\n",
    "print('Best Penalty:', grid.best_estimator_.get_params()['penalty'])\n",
    "print('Best C:', grid.best_estimator_.get_params()['C'])"
   ]
  },
  {
   "cell_type": "code",
   "execution_count": 167,
   "metadata": {},
   "outputs": [
    {
     "data": {
      "text/plain": [
       "GridSearchCV(cv=KFold(n_splits=3, random_state=1242389203, shuffle=True),\n",
       "             error_score='raise-deprecating',\n",
       "             estimator=LogisticRegression(C=1.0, class_weight=None, dual=False,\n",
       "                                          fit_intercept=True,\n",
       "                                          intercept_scaling=1, l1_ratio=None,\n",
       "                                          max_iter=100, multi_class='warn',\n",
       "                                          n_jobs=None, penalty='l2',\n",
       "                                          random_state=None, solver='warn',\n",
       "                                          tol=0.0001, verbose=0,\n",
       "                                          warm_start=False),\n",
       "             iid='warn', n_jobs=None,\n",
       "             param_grid={'C': array([1.00000000e+00, 2.78255940e+00, 7.74263683e+00, 2.15443469e+01,\n",
       "       5.99484250e+01, 1.66810054e+02, 4.64158883e+02, 1.29154967e+03,\n",
       "       3.59381366e+03, 1.00000000e+04]),\n",
       "                         'penalty': ['l1', 'l2']},\n",
       "             pre_dispatch='2*n_jobs', refit=True, return_train_score=False,\n",
       "             scoring=None, verbose=0)"
      ]
     },
     "execution_count": 167,
     "metadata": {},
     "output_type": "execute_result"
    }
   ],
   "source": [
    "grid_sc.fit(X_train_scaled, y_train)"
   ]
  },
  {
   "cell_type": "code",
   "execution_count": 168,
   "metadata": {},
   "outputs": [
    {
     "name": "stdout",
     "output_type": "stream",
     "text": [
      "Pseudo R^2: 0.994\n",
      "Best Penalty: l2\n",
      "Best C: 2.7825594022071245\n"
     ]
    }
   ],
   "source": [
    "print(\"Pseudo R^2: {:.3f}\".format(grid_sc.score(X_test_scaled, y_test)))\n",
    "print('Best Penalty:', grid_sc.best_estimator_.get_params()['penalty'])\n",
    "print('Best C:', grid_sc.best_estimator_.get_params()['C'])"
   ]
  },
  {
   "cell_type": "markdown",
   "metadata": {},
   "source": [
    "#### KFold w/ New Seed "
   ]
  },
  {
   "cell_type": "code",
   "execution_count": 169,
   "metadata": {},
   "outputs": [],
   "source": [
    "grid = GridSearchCV(lgr, param_grid=hyperparameters, cv=KFold(shuffle=True, random_state=45))\n",
    "grid_sc = GridSearchCV(lgr, param_grid=hyperparameters, cv=KFold(shuffle=True, random_state=45))"
   ]
  },
  {
   "cell_type": "code",
   "execution_count": 170,
   "metadata": {},
   "outputs": [
    {
     "data": {
      "text/plain": [
       "GridSearchCV(cv=KFold(n_splits=3, random_state=45, shuffle=True),\n",
       "             error_score='raise-deprecating',\n",
       "             estimator=LogisticRegression(C=1.0, class_weight=None, dual=False,\n",
       "                                          fit_intercept=True,\n",
       "                                          intercept_scaling=1, l1_ratio=None,\n",
       "                                          max_iter=100, multi_class='warn',\n",
       "                                          n_jobs=None, penalty='l2',\n",
       "                                          random_state=None, solver='warn',\n",
       "                                          tol=0.0001, verbose=0,\n",
       "                                          warm_start=False),\n",
       "             iid='warn', n_jobs=None,\n",
       "             param_grid={'C': array([1.00000000e+00, 2.78255940e+00, 7.74263683e+00, 2.15443469e+01,\n",
       "       5.99484250e+01, 1.66810054e+02, 4.64158883e+02, 1.29154967e+03,\n",
       "       3.59381366e+03, 1.00000000e+04]),\n",
       "                         'penalty': ['l1', 'l2']},\n",
       "             pre_dispatch='2*n_jobs', refit=True, return_train_score=False,\n",
       "             scoring=None, verbose=0)"
      ]
     },
     "execution_count": 170,
     "metadata": {},
     "output_type": "execute_result"
    }
   ],
   "source": [
    "grid.fit(X_train, y_train)"
   ]
  },
  {
   "cell_type": "code",
   "execution_count": 171,
   "metadata": {},
   "outputs": [
    {
     "name": "stdout",
     "output_type": "stream",
     "text": [
      "Pseudo R^2: 0.987\n",
      "Best Penalty: l2\n",
      "Best C: 464.15888336127773\n"
     ]
    }
   ],
   "source": [
    "print(\"Pseudo R^2: {:.3f}\".format(grid.score(X_test, y_test)))\n",
    "print('Best Penalty:', grid.best_estimator_.get_params()['penalty'])\n",
    "print('Best C:', grid.best_estimator_.get_params()['C'])"
   ]
  },
  {
   "cell_type": "code",
   "execution_count": 172,
   "metadata": {},
   "outputs": [
    {
     "data": {
      "text/plain": [
       "GridSearchCV(cv=KFold(n_splits=3, random_state=45, shuffle=True),\n",
       "             error_score='raise-deprecating',\n",
       "             estimator=LogisticRegression(C=1.0, class_weight=None, dual=False,\n",
       "                                          fit_intercept=True,\n",
       "                                          intercept_scaling=1, l1_ratio=None,\n",
       "                                          max_iter=100, multi_class='warn',\n",
       "                                          n_jobs=None, penalty='l2',\n",
       "                                          random_state=None, solver='warn',\n",
       "                                          tol=0.0001, verbose=0,\n",
       "                                          warm_start=False),\n",
       "             iid='warn', n_jobs=None,\n",
       "             param_grid={'C': array([1.00000000e+00, 2.78255940e+00, 7.74263683e+00, 2.15443469e+01,\n",
       "       5.99484250e+01, 1.66810054e+02, 4.64158883e+02, 1.29154967e+03,\n",
       "       3.59381366e+03, 1.00000000e+04]),\n",
       "                         'penalty': ['l1', 'l2']},\n",
       "             pre_dispatch='2*n_jobs', refit=True, return_train_score=False,\n",
       "             scoring=None, verbose=0)"
      ]
     },
     "execution_count": 172,
     "metadata": {},
     "output_type": "execute_result"
    }
   ],
   "source": [
    "grid_sc.fit(X_train_scaled, y_train)"
   ]
  },
  {
   "cell_type": "code",
   "execution_count": 173,
   "metadata": {},
   "outputs": [
    {
     "name": "stdout",
     "output_type": "stream",
     "text": [
      "Pseudo R^2: 0.995\n",
      "Best Penalty: l1\n",
      "Best C: 1.0\n"
     ]
    }
   ],
   "source": [
    "print(\"Pseudo R^2: {:.3f}\".format(grid_sc.score(X_test_scaled, y_test)))\n",
    "print('Best Penalty:', grid_sc.best_estimator_.get_params()['penalty'])\n",
    "print('Best C:', grid_sc.best_estimator_.get_params()['C'])"
   ]
  },
  {
   "cell_type": "markdown",
   "metadata": {},
   "source": [
    "#### KFold w/ New Seed and Shuffle off"
   ]
  },
  {
   "cell_type": "code",
   "execution_count": 174,
   "metadata": {},
   "outputs": [],
   "source": [
    "grid = GridSearchCV(lgr, param_grid=hyperparameters, cv=KFold(shuffle=False, random_state=45))\n",
    "grid_sc = GridSearchCV(lgr, param_grid=hyperparameters, cv=KFold(shuffle=False, random_state=45))"
   ]
  },
  {
   "cell_type": "code",
   "execution_count": 175,
   "metadata": {},
   "outputs": [
    {
     "data": {
      "text/plain": [
       "GridSearchCV(cv=KFold(n_splits=3, random_state=45, shuffle=False),\n",
       "             error_score='raise-deprecating',\n",
       "             estimator=LogisticRegression(C=1.0, class_weight=None, dual=False,\n",
       "                                          fit_intercept=True,\n",
       "                                          intercept_scaling=1, l1_ratio=None,\n",
       "                                          max_iter=100, multi_class='warn',\n",
       "                                          n_jobs=None, penalty='l2',\n",
       "                                          random_state=None, solver='warn',\n",
       "                                          tol=0.0001, verbose=0,\n",
       "                                          warm_start=False),\n",
       "             iid='warn', n_jobs=None,\n",
       "             param_grid={'C': array([1.00000000e+00, 2.78255940e+00, 7.74263683e+00, 2.15443469e+01,\n",
       "       5.99484250e+01, 1.66810054e+02, 4.64158883e+02, 1.29154967e+03,\n",
       "       3.59381366e+03, 1.00000000e+04]),\n",
       "                         'penalty': ['l1', 'l2']},\n",
       "             pre_dispatch='2*n_jobs', refit=True, return_train_score=False,\n",
       "             scoring=None, verbose=0)"
      ]
     },
     "execution_count": 175,
     "metadata": {},
     "output_type": "execute_result"
    }
   ],
   "source": [
    "grid.fit(X_train, y_train)"
   ]
  },
  {
   "cell_type": "code",
   "execution_count": 473,
   "metadata": {},
   "outputs": [
    {
     "name": "stdout",
     "output_type": "stream",
     "text": [
      "test-set score: 0.985\n",
      "Best Penalty: l1\n",
      "Best C: 21.544346900318832\n"
     ]
    }
   ],
   "source": [
    "print(\"Pseudo R^2: {:.3f}\".format(grid.score(X_test, y_test)))\n",
    "print('Best Penalty:', grid.best_estimator_.get_params()['penalty'])\n",
    "print('Best C:', grid.best_estimator_.get_params()['C'])"
   ]
  },
  {
   "cell_type": "code",
   "execution_count": 176,
   "metadata": {},
   "outputs": [
    {
     "data": {
      "text/plain": [
       "GridSearchCV(cv=KFold(n_splits=3, random_state=45, shuffle=False),\n",
       "             error_score='raise-deprecating',\n",
       "             estimator=LogisticRegression(C=1.0, class_weight=None, dual=False,\n",
       "                                          fit_intercept=True,\n",
       "                                          intercept_scaling=1, l1_ratio=None,\n",
       "                                          max_iter=100, multi_class='warn',\n",
       "                                          n_jobs=None, penalty='l2',\n",
       "                                          random_state=None, solver='warn',\n",
       "                                          tol=0.0001, verbose=0,\n",
       "                                          warm_start=False),\n",
       "             iid='warn', n_jobs=None,\n",
       "             param_grid={'C': array([1.00000000e+00, 2.78255940e+00, 7.74263683e+00, 2.15443469e+01,\n",
       "       5.99484250e+01, 1.66810054e+02, 4.64158883e+02, 1.29154967e+03,\n",
       "       3.59381366e+03, 1.00000000e+04]),\n",
       "                         'penalty': ['l1', 'l2']},\n",
       "             pre_dispatch='2*n_jobs', refit=True, return_train_score=False,\n",
       "             scoring=None, verbose=0)"
      ]
     },
     "execution_count": 176,
     "metadata": {},
     "output_type": "execute_result"
    }
   ],
   "source": [
    "grid_sc.fit(X_train_scaled, y_train)"
   ]
  },
  {
   "cell_type": "code",
   "execution_count": 177,
   "metadata": {},
   "outputs": [
    {
     "name": "stdout",
     "output_type": "stream",
     "text": [
      "Pseudo R^2: 0.994\n",
      "Best Penalty: l1\n",
      "Best C: 2.7825594022071245\n"
     ]
    }
   ],
   "source": [
    "print(\"Pseudo R^2: {:.3f}\".format(grid_sc.score(X_test_scaled, y_test)))\n",
    "print('Best Penalty:', grid_sc.best_estimator_.get_params()['penalty'])\n",
    "print('Best C:', grid_sc.best_estimator_.get_params()['C'])"
   ]
  },
  {
   "cell_type": "markdown",
   "metadata": {},
   "source": [
    "R^2\n",
    "\n",
    "Not Scaled, Scaled\n",
    "1. KFold w/ Shuffle False -> .989,.994\n",
    "2. KFold w/ Shuffle True -> .987, .994\n",
    "3. KFold w/ New Seed -> .987,.995\n",
    "4. KFold w/ New Seed and Shuffle off -> .995, .994\n",
    "\n",
    "We see that with this data there does not seem to be much change in explanatory power given the adjustments of the see and shuffling. The odd one out of the bunch appears to be 4. which is the only rendition where the not scaled data performed better than the scaled, however the difference is minimal."
   ]
  },
  {
   "cell_type": "markdown",
   "metadata": {},
   "source": [
    "### 2.5 Lastly, compare the coefficients for Logistic Regression and Penalized Logistic Regression and discuss which final model you would choose to predict new data."
   ]
  },
  {
   "cell_type": "code",
   "execution_count": 179,
   "metadata": {},
   "outputs": [
    {
     "name": "stdout",
     "output_type": "stream",
     "text": [
      "0.7366153846153846\n",
      "[[-0.10555434  1.26078425 -0.29515375 -4.58857718  0.71340921  1.21073104\n",
      "  -2.88390237  4.91817648 -0.12439965  0.46839067  1.8779795   0.29223981]]\n"
     ]
    }
   ],
   "source": [
    "print(lgr1.score(X_test, y_test))\n",
    "print(lgr1.coef_)"
   ]
  },
  {
   "cell_type": "code",
   "execution_count": 180,
   "metadata": {},
   "outputs": [
    {
     "name": "stdout",
     "output_type": "stream",
     "text": [
      "0.7366153846153846\n",
      "[[-0.11178505  1.25809256 -0.29652698 -4.59653572  0.71280629  1.21350348\n",
      "  -2.88391744  4.93460978 -0.13016557  0.46576363  1.88780997  0.29192203]]\n"
     ]
    }
   ],
   "source": [
    "print(lgr2.score(X_test, y_test))\n",
    "print(lgr2.coef_)"
   ]
  },
  {
   "cell_type": "code",
   "execution_count": 181,
   "metadata": {},
   "outputs": [
    {
     "name": "stdout",
     "output_type": "stream",
     "text": [
      "0.9876923076923076\n",
      "[[ 1.41487490e+00  1.17570208e+01 -8.64211847e-01 -1.13141558e-01\n",
      "   3.19822777e+01  5.31743334e-02 -6.25925503e-02 -1.99751713e+01\n",
      "   8.91778445e+00  8.59114984e+00 -3.20166513e-01  2.14757181e-03]]\n"
     ]
    }
   ],
   "source": [
    "print(logreg.score(X_test, y_test))\n",
    "print(logreg.coef_)"
   ]
  },
  {
   "cell_type": "markdown",
   "metadata": {},
   "source": [
    " I would be inclined to use the penalized logistic regressions in this case because seldom is a model found with a R^2 so near to 1 that has no underlying issues. Multicollinearity may be at play in the non-penalized logistic regression, and this could be inspiring an artificially high R^2 value, because of this, I would inclined to reference the penalized models, as they account for multicollinarity, and have R^2 values that suggest that there may be additional features that could explain some of the variation in y, which is are more likely occurrence then having found all the independent features (x) that can explain the variation of the dependent variable (y)."
   ]
  }
 ],
 "metadata": {
  "kernelspec": {
   "display_name": "Python 3",
   "language": "python",
   "name": "python3"
  },
  "language_info": {
   "codemirror_mode": {
    "name": "ipython",
    "version": 3
   },
   "file_extension": ".py",
   "mimetype": "text/x-python",
   "name": "python",
   "nbconvert_exporter": "python",
   "pygments_lexer": "ipython3",
   "version": "3.7.3"
  }
 },
 "nbformat": 4,
 "nbformat_minor": 2
}
